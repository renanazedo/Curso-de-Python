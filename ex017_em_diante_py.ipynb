{
  "nbformat": 4,
  "nbformat_minor": 0,
  "metadata": {
    "colab": {
      "name": "ex017 em diante.py",
      "provenance": [],
      "authorship_tag": "ABX9TyN2nsONefIh1NpeUeCO4WPa",
      "include_colab_link": true
    },
    "kernelspec": {
      "name": "python3",
      "display_name": "Python 3"
    }
  },
  "cells": [
    {
      "cell_type": "markdown",
      "metadata": {
        "id": "view-in-github",
        "colab_type": "text"
      },
      "source": [
        "<a href=\"https://colab.research.google.com/github/renanazedo/Curso-de-Python/blob/master/ex017_em_diante_py.ipynb\" target=\"_parent\"><img src=\"https://colab.research.google.com/assets/colab-badge.svg\" alt=\"Open In Colab\"/></a>"
      ]
    },
    {
      "cell_type": "code",
      "metadata": {
        "id": "SPllIFUwvWun",
        "colab_type": "code",
        "colab": {
          "base_uri": "https://localhost:8080/",
          "height": 68
        },
        "outputId": "4348d8e6-3739-4b83-8c2b-662be07d66e4"
      },
      "source": [
        "# Exercício 017 - Crie um programa que receba o valor dos catetos de um \n",
        "# triângulo retângulo e retorne o comprimento da hipotenusa\n",
        " \n",
        "# Importar bibliotecas\n",
        "import math\n",
        " \n",
        "# entrada das informações\n",
        "n1 = float(input('Cateto A: '))\n",
        "n2 = float(input('Cateto B: '))\n",
        " \n",
        "# Cálculos \n",
        "qa = (n1 ** 2)\n",
        "qb = (n2 ** 2)\n",
        "qc = (qa + qb)\n",
        "h = math.sqrt(qc)\n",
        " \n",
        "# Resultado\n",
        "print(f'A hipotenusa é: {h}')"
      ],
      "execution_count": null,
      "outputs": [
        {
          "output_type": "stream",
          "text": [
            "Cateto A: 50\n",
            "Cateto B: 60\n",
            "A hipotenusa é: 78.10249675906654\n"
          ],
          "name": "stdout"
        }
      ]
    },
    {
      "cell_type": "code",
      "metadata": {
        "id": "ZMiaKaM1NjHb",
        "colab_type": "code",
        "colab": {
          "base_uri": "https://localhost:8080/",
          "height": 102
        },
        "outputId": "95d09906-30b5-4b3d-8add-0d0eec44f68e"
      },
      "source": [
        "# Exercício 018 - Crie um programa que calcule o Seno, Cosseno e Tangente \n",
        "# de um ângulo\n",
        " \n",
        "#import math\n",
        " \n",
        "#angulo = float(input('Ângulo: '))\n",
        "#seno = math.sin(math.radians(angulo))\n",
        "#cosseno = math.cos (angulo)\n",
        "#tangente = math.tan (angulo)\n",
        "#print(f'Seno = {seno}')\n",
        "#print(f'Cosseno = {cosseno}')\n",
        "#print(f'Tangente = {tangente}')\n",
        " \n",
        "from math import radians, sin, cos, tan\n",
        "angulo = float(input('Ângulo: '))\n",
        "rad = radians(angulo)\n",
        "print(f'O seno, cosseno e tangente deste angulo são')\n",
        "print(f'Seno: {sin(rad):.2f}')\n",
        "print(f'Cosseno: {cos(rad):.2f}')\n",
        "print(f'Tangente: {tan(rad):.2f}')"
      ],
      "execution_count": null,
      "outputs": [
        {
          "output_type": "stream",
          "text": [
            "Ângulo: 50\n",
            "O seno, cosseno e tangente deste angulo são\n",
            "Seno: 0.77\n",
            "Cosseno: 0.64\n",
            "Tangente: 1.19\n"
          ],
          "name": "stdout"
        }
      ]
    },
    {
      "cell_type": "code",
      "metadata": {
        "id": "mntKhJw_hVXQ",
        "colab_type": "code",
        "colab": {
          "base_uri": "https://localhost:8080/",
          "height": 68
        },
        "outputId": "d264356c-aec4-4bea-fd95-9ff9506ca906"
      },
      "source": [
        "# Exercício Python 18:\n",
        "# Faça um programa que\n",
        "# leia um ângulo qualquer\n",
        "# e mostre na tela o valor do seno,\n",
        "# cosseno e tangente desse ângulo.\n",
        "\n",
        "# Importar\n",
        "from math import radians, sin, cos, tan\n",
        "\n",
        "# Início\n",
        "print ('Bem vindo ao programa calculador de \"SENO, COSSENO E TANGENTE\"')\n",
        "\n",
        "# Variáveis\n",
        "n = float(input('Por favor, digite o ângulo: '))\n",
        "rad = radians(n)\n",
        "seno = sin(rad)\n",
        "cos = cos(rad)\n",
        "tang = tan(rad)\n",
        "\n",
        "print (f'{seno:.2f}, {cos:.2f}, {tang:.2f}')\n"
      ],
      "execution_count": null,
      "outputs": [
        {
          "output_type": "stream",
          "text": [
            "Bem vindo ao programa calculador de \"SENO, COSSENO E TANGENTE\"\n",
            "Por favor, digite o ângulo: 50\n",
            "0.77, 0.64, 1.19\n"
          ],
          "name": "stdout"
        }
      ]
    },
    {
      "cell_type": "code",
      "metadata": {
        "id": "WRMTj7uTcSfD",
        "colab_type": "code",
        "colab": {
          "base_uri": "https://localhost:8080/",
          "height": 119
        },
        "outputId": "bfadb7d0-fef1-4bc6-f2fb-4dd3ca330438"
      },
      "source": [
        "# Exercício 019 - Criar programa que receba nomes, faça um sorteio entre eles\n",
        "# e exiba o nome do sorteado\n",
        "\n",
        "from random import choice\n",
        "\n",
        "nome1 = (input('Nome 1: '))\n",
        "nome2 = (input('Nome 2: '))\n",
        "nome3 = (input('Nome 3: '))\n",
        "nome4 = (input('Nome 4: '))\n",
        "lista = [nome1, nome2, nome3, nome4]\n",
        "sorteio = choice(lista)\n",
        "\n",
        "#Sorteio\n",
        "print(f'Participantes: {nome1}  {nome2}  {nome3}  {nome4}')\n",
        "print(f'O escolhido foi: {sorteio}')\n",
        "\n"
      ],
      "execution_count": null,
      "outputs": [
        {
          "output_type": "stream",
          "text": [
            "Nome 1: Renan\n",
            "Nome 2: Sofia\n",
            "Nome 3: Alice\n",
            "Nome 4: Roberta\n",
            "Participantes: Renan  Sofia  Alice  Roberta\n",
            "O escolhido foi: Alice\n"
          ],
          "name": "stdout"
        }
      ]
    },
    {
      "cell_type": "code",
      "metadata": {
        "id": "q6hbvfe2khBb",
        "colab_type": "code",
        "colab": {
          "base_uri": "https://localhost:8080/",
          "height": 318
        },
        "outputId": "03f01dcb-556f-4bd5-da3d-62268a034688"
      },
      "source": [
        "# Exercício Python 19:\n",
        "# Um professor quer sortear um dos seus alunos para apagar o quadro.\n",
        "# Faça um programa que ajude ele,\n",
        "# lendo o nome dos alunos e\n",
        "# escrevendo na tela o nome do escolhido.\n",
        "\n",
        "# importar\n",
        "from random import choice, shuffle\n",
        "from time import sleep\n",
        "import os\n",
        "\n",
        "from tqdm import tqdm\n",
        "\n",
        "# Início\n",
        "print ('Programa de sorteio')\n",
        "\n",
        "# Variáveis\n",
        "\n",
        "lista = [] # Cria lista\n",
        "while True:\n",
        "    nome = str(input('Nome / [Enter] para sortear : ')) # cadastra nome\n",
        "    if nome == '':\n",
        "       break\n",
        "    lista.append(nome)\n",
        "\n",
        "nova_lista = str(lista)\n",
        "apagar = len(nova_lista)\n",
        "int(apagar)\n",
        "\n",
        "print ('\\33[1; 33mEmbaralhando...')\n",
        "\n",
        "# Barra de Prograsso\n",
        "\n",
        "spinner=\"\\\\|/-\"\n",
        "print (\"----------\\r\", end='', flush=True)\n",
        "for pos in range(20):\n",
        "    print (\"-\", end='', flush=True)\n",
        "    for spin in range(10):\n",
        "        #here should be a break as soon as some task proceeded further\n",
        "        sleep(0.1)\n",
        "        print (\"\\b\" + spinner[spin % 4], end='', flush=True)\n",
        "    print (\"\\b█\", end='', flush=True)\n",
        "print ()\n",
        "\n",
        "# Fim da barra\n",
        "\n",
        "print ('Sorteando...')\n",
        "for embaralha in range(0, 10):\n",
        "    shuffle(lista) # embaralha\n",
        "    \n",
        "    \n",
        "    print (lista, end='', flush=True)\n",
        "    sleep(0.5)\n",
        "    print ('\\b' * apagar, end='', flush=True)\n",
        "    \n",
        "sorteado = choice(lista) # sorteia\n",
        "print (f'{sorteado}')"
      ],
      "execution_count": 74,
      "outputs": [
        {
          "output_type": "stream",
          "text": [
            "Programa de sorteio\n",
            "Nome / [Enter] para sortear : renan\n",
            "Nome / [Enter] para sortear : \n",
            "\u001b[1; 33mEmbaralhando...\n",
            "-\b\\\b|\b/\b-\b\\\b|\b/\b-\b\\\b|\b█-\b\\\b|\b/\b-\b\\\b|\b/\b-\b\\\b|\b█-\b\\\b|\b/\b-\b\\\b|\b/\b-\b\\\b|\b█-\b\\\b|\b/\b-\b\\\b|\b/\b-\b\\\b|\b█-\b\\\b|\b/\b-\b\\\b|\b/\b-\b\\\b|\b█-\b\\\b|\b/\b-\b\\\b|\b/\b-\b\\\b|\b█-\b\\\b|\b/\b-\b\\\b|\b/\b-\b\\"
          ],
          "name": "stdout"
        },
        {
          "output_type": "error",
          "ename": "KeyboardInterrupt",
          "evalue": "ignored",
          "traceback": [
            "\u001b[0;31m---------------------------------------------------------------------------\u001b[0m",
            "\u001b[0;31mKeyboardInterrupt\u001b[0m                         Traceback (most recent call last)",
            "\u001b[0;32m<ipython-input-74-f03f7dfca9d1>\u001b[0m in \u001b[0;36m<module>\u001b[0;34m()\u001b[0m\n\u001b[1;32m     38\u001b[0m     \u001b[0;32mfor\u001b[0m \u001b[0mspin\u001b[0m \u001b[0;32min\u001b[0m \u001b[0mrange\u001b[0m\u001b[0;34m(\u001b[0m\u001b[0;36m10\u001b[0m\u001b[0;34m)\u001b[0m\u001b[0;34m:\u001b[0m\u001b[0;34m\u001b[0m\u001b[0;34m\u001b[0m\u001b[0m\n\u001b[1;32m     39\u001b[0m         \u001b[0;31m#here should be a break as soon as some task proceeded further\u001b[0m\u001b[0;34m\u001b[0m\u001b[0;34m\u001b[0m\u001b[0;34m\u001b[0m\u001b[0m\n\u001b[0;32m---> 40\u001b[0;31m         \u001b[0msleep\u001b[0m\u001b[0;34m(\u001b[0m\u001b[0;36m0.1\u001b[0m\u001b[0;34m)\u001b[0m\u001b[0;34m\u001b[0m\u001b[0;34m\u001b[0m\u001b[0m\n\u001b[0m\u001b[1;32m     41\u001b[0m         \u001b[0mprint\u001b[0m \u001b[0;34m(\u001b[0m\u001b[0;34m\"\\b\"\u001b[0m \u001b[0;34m+\u001b[0m \u001b[0mspinner\u001b[0m\u001b[0;34m[\u001b[0m\u001b[0mspin\u001b[0m \u001b[0;34m%\u001b[0m \u001b[0;36m4\u001b[0m\u001b[0;34m]\u001b[0m\u001b[0;34m,\u001b[0m \u001b[0mend\u001b[0m\u001b[0;34m=\u001b[0m\u001b[0;34m''\u001b[0m\u001b[0;34m,\u001b[0m \u001b[0mflush\u001b[0m\u001b[0;34m=\u001b[0m\u001b[0;32mTrue\u001b[0m\u001b[0;34m)\u001b[0m\u001b[0;34m\u001b[0m\u001b[0;34m\u001b[0m\u001b[0m\n\u001b[1;32m     42\u001b[0m     \u001b[0mprint\u001b[0m \u001b[0;34m(\u001b[0m\u001b[0;34m\"\\b█\"\u001b[0m\u001b[0;34m,\u001b[0m \u001b[0mend\u001b[0m\u001b[0;34m=\u001b[0m\u001b[0;34m''\u001b[0m\u001b[0;34m,\u001b[0m \u001b[0mflush\u001b[0m\u001b[0;34m=\u001b[0m\u001b[0;32mTrue\u001b[0m\u001b[0;34m)\u001b[0m\u001b[0;34m\u001b[0m\u001b[0;34m\u001b[0m\u001b[0m\n",
            "\u001b[0;31mKeyboardInterrupt\u001b[0m: "
          ]
        }
      ]
    },
    {
      "cell_type": "code",
      "metadata": {
        "id": "KxoRPm8ksWQc",
        "colab_type": "code",
        "colab": {}
      },
      "source": [
        "lista = []\n",
        "while True:\n",
        "    nome = str(input('Nome: '))\n",
        "    if nome == '':\n",
        "        break\n",
        "    lista.append(nome)\n",
        "   # nova_lista = ', '.join(lista)\n",
        "   # tamanho = len(nova_lista)\n",
        "    nova_lista2 = str(lista).strip('[]')\n",
        "    tamanho = len(nova_lista2)\n",
        "  #  print (nova_lista2)\n",
        "#    print (nova_lista)\n",
        "    print (tamanho)\n",
        "    print (type(tamanho))\n",
        " #   print (lista)\n"
      ],
      "execution_count": null,
      "outputs": []
    },
    {
      "cell_type": "code",
      "metadata": {
        "id": "o5q07n-bK7Ql",
        "colab_type": "code",
        "colab": {
          "base_uri": "https://localhost:8080/",
          "height": 34
        },
        "outputId": "a56d0432-d6ec-4b02-c64c-b1d06125aff1"
      },
      "source": [
        "import time\n",
        "import sys\n",
        "\n",
        "toolbar_width = 40\n",
        "\n",
        "# setup toolbar\n",
        "sys.stdout.write(\"[%s]\" % (\" \" * toolbar_width))\n",
        "sys.stdout.flush()\n",
        "sys.stdout.write(\"\\b\" * (toolbar_width+1)) # return to start of line, after '['\n",
        "\n",
        "for i in range(toolbar_width):\n",
        "    time.sleep(0.1) # do real work here\n",
        "    # update the bar\n",
        "    sys.stdout.write(\"-\")\n",
        "    sys.stdout.flush()\n",
        "\n",
        "sys.stdout.write(\"\\n\")"
      ],
      "execution_count": 7,
      "outputs": [
        {
          "output_type": "stream",
          "text": [
            "[                                        ]\b\b\b\b\b\b\b\b\b\b\b\b\b\b\b\b\b\b\b\b\b\b\b\b\b\b\b\b\b\b\b\b\b\b\b\b\b\b\b\b\b----------------------------------------\n"
          ],
          "name": "stdout"
        }
      ]
    },
    {
      "cell_type": "code",
      "metadata": {
        "id": "uU_sQ8Sh77C5",
        "colab_type": "code",
        "colab": {
          "base_uri": "https://localhost:8080/",
          "height": 34
        },
        "outputId": "80c09306-db27-4d41-8a22-6ec2efac4a31"
      },
      "source": [
        "from time import sleep\n",
        "spinner=\"\\\\|/-\"\n",
        "print (\"----------\\r\", end='', flush=True)\n",
        "for pos in range(10):\n",
        "    print (\"-\", end='', flush=True)\n",
        "    for spin in range(25):\n",
        "        #here should be a break as soon as some task proceeded further\n",
        "        sleep(0.1)\n",
        "        print (\"\\b\" + spinner[spin % 4], end='', flush=True)\n",
        "    print (\"\\b█\", end='', flush=True)\n",
        "print ()"
      ],
      "execution_count": 13,
      "outputs": [
        {
          "output_type": "stream",
          "text": [
            "----------\r-\b\\\b|\b/\b-\b\\\b|\b/\b-\b\\\b|\b/\b-\b\\\b|\b/\b-\b\\\b|\b/\b-\b\\\b|\b/\b-\b\\\b█-\b\\\b|\b/\b-\b\\\b|\b/\b-\b\\\b|\b/\b-\b\\\b|\b/\b-\b\\\b|\b/\b-\b\\\b|\b/\b-\b\\\b█-\b\\\b|\b/\b-\b\\\b|\b/\b-\b\\\b|\b/\b-\b\\\b|\b/\b-\b\\\b|\b/\b-\b\\\b|\b/\b-\b\\\b█-\b\\\b|\b/\b-\b\\\b|\b/\b-\b\\\b|\b/\b-\b\\\b|\b/\b-\b\\\b|\b/\b-\b\\\b|\b/\b-\b\\\b█-\b\\\b|\b/\b-\b\\\b|\b/\b-\b\\\b|\b/\b-\b\\\b|\b/\b-\b\\\b|\b/\b-\b\\\b|\b/\b-\b\\\b█-\b\\\b|\b/\b-\b\\\b|\b/\b-\b\\\b|\b/\b-\b\\\b|\b/\b-\b\\\b|\b/\b-\b\\\b|\b/\b-\b\\\b█-\b\\\b|\b/\b-\b\\\b|\b/\b-\b\\\b|\b/\b-\b\\\b|\b/\b-\b\\\b|\b/\b-\b\\\b|\b/\b-\b\\\b█-\b\\\b|\b/\b-\b\\\b|\b/\b-\b\\\b|\b/\b-\b\\\b|\b/\b-\b\\\b|\b/\b-\b\\\b|\b/\b-\b\\\b█-\b\\\b|\b/\b-\b\\\b|\b/\b-\b\\\b|\b/\b-\b\\\b|\b/\b-\b\\\b|\b/\b-\b\\\b|\b/\b-\b\\\b█-\b\\\b|\b/\b-\b\\\b|\b/\b-\b\\\b|\b/\b-\b\\\b|\b/\b-\b\\\b|\b/\b-\b\\\b|\b/\b-\b\\\b█\n"
          ],
          "name": "stdout"
        }
      ]
    },
    {
      "cell_type": "code",
      "metadata": {
        "id": "V24DhjAkhdn8",
        "colab_type": "code",
        "colab": {
          "base_uri": "https://localhost:8080/",
          "height": 102
        },
        "outputId": "6530323c-1df9-4e63-97b1-cf693361c066"
      },
      "source": [
        "# Exercício 020 - Mostrar sorteio em ordem\n",
        "\n",
        "from random import shuffle\n",
        "\n",
        "nome1 = (input('Nome 1: '))\n",
        "nome2 = (input('Nome 2: '))\n",
        "nome3 = (input('Nome 3: '))\n",
        "nome4 = (input('Nome 4: '))\n",
        "lista = [nome1, nome2, nome3, nome4]\n",
        "shuffle(lista)\n",
        "print (f'A ordem será: {lista}')\n",
        "\n",
        "\n"
      ],
      "execution_count": null,
      "outputs": [
        {
          "output_type": "stream",
          "text": [
            "Nome 1: Renan\n",
            "Nome 2: Alice\n",
            "Nome 3: Sofia\n",
            "Nome 4: Roberta\n",
            "A ordem será: ['Alice', 'Roberta', 'Sofia', 'Renan']\n"
          ],
          "name": "stdout"
        }
      ]
    },
    {
      "cell_type": "code",
      "metadata": {
        "id": "VoQ9oKY7j3Lf",
        "colab_type": "code",
        "colab": {}
      },
      "source": [
        "# Exercício Python 19: Um professor quer sortear um dos seus quatro alunos para apagar o quadro. Faça um programa que ajude ele, lendo o nome dos alunos e escrevendo na tela o nome do escolhido.\n",
        "\n"
      ],
      "execution_count": null,
      "outputs": []
    },
    {
      "cell_type": "code",
      "metadata": {
        "id": "ypyqNMYrlVD-",
        "colab_type": "code",
        "colab": {}
      },
      "source": [
        "# Exercício 021 - Criar um programa que abra e toque mp3\n",
        "\n",
        "import pygame\n",
        "pygame.init()\n",
        "mixer.init()\n",
        "pygame.mixer.music.load('011.mp3')\n",
        "pygame.mixer.music.play()\n",
        "pygame.event.wait()\n",
        "\n",
        "\n"
      ],
      "execution_count": null,
      "outputs": []
    },
    {
      "cell_type": "code",
      "metadata": {
        "id": "R8sb9BLCJmmz",
        "colab_type": "code",
        "colab": {
          "base_uri": "https://localhost:8080/",
          "height": 102
        },
        "outputId": "665efd92-bac2-47ef-cf76-3ee4ace52a8e"
      },
      "source": [
        "# Exercício 022 - Criar um programa que:\n",
        "# leia o nome completo de uma pessoa e mostre:\n",
        "# o nome com todas as letras maiúsculas\n",
        "# o nome com todas as letras minúsculas\n",
        "# Quantas letras tem sem espaços\n",
        "# Quantas letras tem o primeiro nome\n",
        "\n",
        "nome = (input('Digite seu nome completo: '))\n",
        "semespaco = len(nome.strip()) - (nome.count(' '))\n",
        "print (nome.upper())\n",
        "print (nome.lower())\n",
        "nome1 = (nome.split())\n",
        "nome2 = (nome1[0])\n",
        "print(f'O primeiro nome tem {len(nome2)} letras')\n",
        "print(f'O total de letras é: {semespaco}')\n"
      ],
      "execution_count": null,
      "outputs": [
        {
          "output_type": "stream",
          "text": [
            "Digite seu nome completo: Renan Azedo de Oliveira\n",
            "RENAN AZEDO DE OLIVEIRA\n",
            "renan azedo de oliveira\n",
            "O primeiro nome tem 5 letras\n",
            "O total de letras é: 20\n"
          ],
          "name": "stdout"
        }
      ]
    },
    {
      "cell_type": "code",
      "metadata": {
        "id": "N9n-_UGIUMzP",
        "colab_type": "code",
        "colab": {
          "base_uri": "https://localhost:8080/",
          "height": 69
        },
        "outputId": "912d8adc-d46e-4629-9d7c-a34fb60d3313"
      },
      "source": [
        "# Aula 09:\n",
        "# Manipulação de texto\n",
        "\n",
        "# fatiamento\n",
        "frase = 'Curso em vídeo Python'\n",
        "frase[9] \n",
        "frase[9:13]\n",
        "frase[9:21:2] # do 9 ao 21 de dois em dois\n",
        "frase[:5] # do início até 5\n",
        "frase[15:] # do 15 até o fim\n",
        "frase[9::3]\n",
        "\n",
        "# Análise\n",
        "\n",
        "# len - conta caracteres\n",
        "contagem = len(frase)\n",
        "print (contagem)\n",
        "# count - conta letras em uma frase\n",
        "frase.count('o')\n",
        "frase.count('o', 0, 13) # conta 'o', do início até o 12\n",
        "\n",
        "# find - encontra um trecho - -\n",
        "frase.find('deo')\n",
        "# in\n",
        "'Curso' in frase\n",
        "frase.replace('Python', 'Android')\n",
        "frase.upper()\n",
        "frase.lower()\n",
        "frase.capitalize()\n",
        "frase.title()\n",
        "# split - Divisão nos espaços\n",
        "frase.split()\n",
        "# join - juntar\n",
        "com_espaco = frase.split()\n",
        "print (com_espaco)\n",
        "' '.join(com_espaco) # junta com o espaço\n",
        "\n",
        "\n",
        "\n",
        "\n",
        "\n",
        "\n"
      ],
      "execution_count": 30,
      "outputs": [
        {
          "output_type": "stream",
          "text": [
            "21\n",
            "['Curso', 'em', 'vídeo', 'Python']\n"
          ],
          "name": "stdout"
        },
        {
          "output_type": "execute_result",
          "data": {
            "application/vnd.google.colaboratory.intrinsic+json": {
              "type": "string"
            },
            "text/plain": [
              "'Curso em vídeo Python'"
            ]
          },
          "metadata": {
            "tags": []
          },
          "execution_count": 30
        }
      ]
    },
    {
      "cell_type": "code",
      "metadata": {
        "id": "XDwGhCeDgMWR",
        "colab_type": "code",
        "colab": {
          "base_uri": "https://localhost:8080/",
          "height": 119
        },
        "outputId": "b4b0c68f-da77-41ba-a2ed-dd4d2f45ba55"
      },
      "source": [
        "#E xercício Python 22: \n",
        "# Crie um programa que leia o nome completo de uma pessoa e mostre:\n",
        "# O nome com todas as letras maiúsculas e minúsculas.\n",
        "# Quantas letras ao todo (sem considerar espaços).\n",
        "# Quantas letras tem o primeiro nome.\n",
        "nome = str(input('Digite seu nome: ')).strip()\n",
        "maiusculo = nome.upper()\n",
        "minusculo = nome.lower()\n",
        "separa = nome.split()\n",
        "junta = ''.join(separa)\n",
        "\n",
        "total_letras = len(junta)\n",
        "primeiro = separa[0]\n",
        "\n",
        "total_primeiro = len(primeiro) \n",
        "print (maiusculo)\n",
        "print (minusculo)\n",
        "print (total_letras)\n",
        "print (total_primeiro)\n",
        "\n",
        "print (f'{nome.upper()}')\n",
        "\n"
      ],
      "execution_count": 41,
      "outputs": [
        {
          "output_type": "stream",
          "text": [
            "Digite seu nome: renan\n",
            "RENAN\n",
            "renan\n",
            "5\n",
            "5\n",
            "RENAN\n"
          ],
          "name": "stdout"
        }
      ]
    },
    {
      "cell_type": "code",
      "metadata": {
        "id": "clsm6eIeVO0p",
        "colab_type": "code",
        "colab": {
          "base_uri": "https://localhost:8080/",
          "height": 119
        },
        "outputId": "a8c26106-0092-4cc2-f69e-f7b30c844681"
      },
      "source": [
        "# Exercício 023 - Criar um programa que leia um número entre 0 e 9999\n",
        "# e mostre os dígitos separados em unidade, dezena, centena e milhar\n",
        "\n",
        "num = int(input('Digite um número'))\n",
        "u = num // 1 % 10\n",
        "d = num // 10 % 10\n",
        "c = num // 100 % 10\n",
        "m = num // 1000 % 10\n",
        "print(f'Analizando o número {num} ')\n",
        "print(f'Unidade {(u)}')\n",
        "print(f'Dezena {(d)}')\n",
        "print(f'Centena {(c)}')\n",
        "print(f'Milhar {(m)}')"
      ],
      "execution_count": null,
      "outputs": [
        {
          "output_type": "stream",
          "text": [
            "Digite um número12\n",
            "Analizando o número 12 \n",
            "Unidade 2\n",
            "Dezena 1\n",
            "Centena 0\n",
            "Milhar 0\n"
          ],
          "name": "stdout"
        }
      ]
    },
    {
      "cell_type": "code",
      "metadata": {
        "id": "e6mWrP8NzjBJ",
        "colab_type": "code",
        "colab": {
          "base_uri": "https://localhost:8080/",
          "height": 51
        },
        "outputId": "602ac31f-c82d-4eee-d022-ef9948361747"
      },
      "source": [
        "# Exercício Python 24:\n",
        "# Crie um programa que leia o nome de uma cidade\n",
        "# diga se ela começa ou não com o nome “SANTO”.\n",
        "\n",
        "cidade = str(input('Digite o nime de sua cidade')).upper().strip()\n",
        "'SANTO' in cidade\n",
        "\n",
        "\n",
        "\n"
      ],
      "execution_count": 43,
      "outputs": [
        {
          "output_type": "stream",
          "text": [
            "Digite o nime de sua cidadesanto antonio\n"
          ],
          "name": "stdout"
        },
        {
          "output_type": "execute_result",
          "data": {
            "text/plain": [
              "True"
            ]
          },
          "metadata": {
            "tags": []
          },
          "execution_count": 43
        }
      ]
    },
    {
      "cell_type": "code",
      "metadata": {
        "id": "U7KEy0KsXsVF",
        "colab_type": "code",
        "colab": {
          "base_uri": "https://localhost:8080/",
          "height": 51
        },
        "outputId": "0600280b-c36a-4a5b-82e3-b756f8ea5d75"
      },
      "source": [
        "# Exercício 024 - Criar um programa que leia o nome de uma cidade\n",
        "# e diga se o nome dela começa ou não com o nome \"SANTO\"\n",
        "\n",
        "cidade = (input('Digite o nome da Cidade: ')).strip()\n",
        "upper = (cidade.upper())\n",
        "dividido = (upper.split())\n",
        "\n",
        "# Condição\n",
        "if 'SANTO' in (dividido[0]):\n",
        "  print('Esta cidade começa a palavra SANTO')\n",
        "else:\n",
        "  print('Esta cidade não começa com a palavra SANTO') \n"
      ],
      "execution_count": null,
      "outputs": [
        {
          "output_type": "stream",
          "text": [
            "Digite o nome da Cidade: rio de janeiro\n",
            "Esta cidade não começa com a palavra SANTO\n"
          ],
          "name": "stdout"
        }
      ]
    },
    {
      "cell_type": "code",
      "metadata": {
        "id": "ak1Fxa1p09K_",
        "colab_type": "code",
        "colab": {
          "base_uri": "https://localhost:8080/",
          "height": 51
        },
        "outputId": "13f41871-c29f-4a99-8596-98d8fc571c34"
      },
      "source": [
        "# Exercício Python 25:\n",
        "# Crie um programa que\n",
        "# leia o nome de uma pessoa\n",
        "# e diga se ela tem “SILVA” no nome.\n",
        "\n",
        "nome = str(input('Digite seu nome')).strip()\n",
        "if 'SILVA' in nome.upper():\n",
        "    print ('Este nome tem \"SILVA\"')\n",
        "else:\n",
        "    print ('este nome não tem \"SILVA\"') \n",
        "\n",
        "\n"
      ],
      "execution_count": 44,
      "outputs": [
        {
          "output_type": "stream",
          "text": [
            "Digite seu nomerenan azedo de oliveira\n",
            "este nome não tem \"SILVA\"\n"
          ],
          "name": "stdout"
        }
      ]
    },
    {
      "cell_type": "code",
      "metadata": {
        "id": "d_v_GwHvbQwk",
        "colab_type": "code",
        "colab": {
          "base_uri": "https://localhost:8080/",
          "height": 68
        },
        "outputId": "723ed5cf-f507-4b4f-9353-c13afcbe9ebf"
      },
      "source": [
        "# Exercício 025 - Crie um programa que leia o nome de uma pessoa\n",
        "# e diga se ela tem \"SILVA\" no nome.\n",
        "\n",
        "nome = (input('Digite seu nome completo: ')).strip()\n",
        "upper = (nome.upper())\n",
        "dividido = (upper.split())\n",
        "print (verdade)\n",
        "if 'SILVA' in (dividido):\n",
        "  print('Este nome contém SILVA')\n",
        "else:\n",
        "  print('Este nome não contém SILVA')"
      ],
      "execution_count": null,
      "outputs": [
        {
          "output_type": "stream",
          "text": [
            "Digite seu nome completo: renan silva\n",
            "True\n",
            "Este nome contém SILVA\n"
          ],
          "name": "stdout"
        }
      ]
    },
    {
      "cell_type": "code",
      "metadata": {
        "id": "U2LfRloT3Bvt",
        "colab_type": "code",
        "colab": {
          "base_uri": "https://localhost:8080/",
          "height": 85
        },
        "outputId": "4abab5d0-65e4-4e1b-ce4e-b17b5ac26c89"
      },
      "source": [
        "# Exercício Python 26:\n",
        "# Faça um programa que leia uma frase pelo teclado\n",
        "# e mostre quantas vezes aparece a letra “A”,\n",
        "# em que posição ela aparece a primeira vez\n",
        "# e em que posição ela aparece a última vez.\n",
        "\n",
        "frase = str(input('Digite uma frase: ')).strip().upper()\n",
        "\n",
        "total_a = frase.count('A')\n",
        "pos_1 = frase.find('A') + 1\n",
        "pos_final = frase.rfind('A') + 1\n",
        "print (f'A letra \"A\" aparece  {total_a} vezes')\n",
        "print (f'A letra \"A\" aparecece 1° na posição {pos_1}')\n",
        "print (f'E pela última vez na posição {pos_final}') \n",
        "\n",
        "\n"
      ],
      "execution_count": 54,
      "outputs": [
        {
          "output_type": "stream",
          "text": [
            "Digite uma frase: arara azul\n",
            "A letra \"A\" aparece  4 vezes\n",
            "A letra \"A\" aparecece 1° na posição 1\n",
            "E pela última vez na posição 7\n"
          ],
          "name": "stdout"
        }
      ]
    },
    {
      "cell_type": "code",
      "metadata": {
        "id": "F6IuYv3sdWDy",
        "colab_type": "code",
        "colab": {
          "base_uri": "https://localhost:8080/",
          "height": 85
        },
        "outputId": "c9ecc3e7-fcd9-402f-a338-8c9add5660e6"
      },
      "source": [
        "# Exercício 026 - Criar um programa que leia uma frase e mostre:\n",
        "# Quantas vezes aparece a letra \"a\"\n",
        "# Em que posição ela aparece pela primeira vez\n",
        "# Em que posição ela aparece pela última vez\n",
        "\n",
        "frase = str(input('Digite uma frase: ')).strip().lower()\n",
        "a = (frase.count('a'))\n",
        "pos1 = (frase.find('a') + 1)\n",
        "pos2 = (frase.rfind('a') + 1)\n",
        "print(f'A frase contém a letra A {a} vezes')\n",
        "print(f'A letra A aparece pela primeira vez na posição: {pos1}')\n",
        "print(f'e pela última vez na posição: {pos2}')"
      ],
      "execution_count": null,
      "outputs": [
        {
          "output_type": "stream",
          "text": [
            "Digite uma frase: arara azul\n",
            "A frase contém a letra A 4 vezes\n",
            "A letra A aparece pela primeira vez na posição: 1\n",
            "e pela última vez na posição: 7\n"
          ],
          "name": "stdout"
        }
      ]
    },
    {
      "cell_type": "code",
      "metadata": {
        "id": "cKjCS6FL8My0",
        "colab_type": "code",
        "colab": {
          "base_uri": "https://localhost:8080/",
          "height": 68
        },
        "outputId": "332a985f-a011-4e77-9f4e-4a554e8afabc"
      },
      "source": [
        "# Exercício Python 27:\n",
        "# Faça um programa que leia o nome completo de uma pessoa,\n",
        "# mostrando em seguida o primeiro e o último nome separadamente.\n",
        "\n",
        "nome = str(input('Digite seu nome')).strip()\n",
        "separado = nome.split()\n",
        "primeiro = separado[0]\n",
        "ultimo = separado[len(separado) -1]\n",
        "print (primeiro)\n",
        "print (ultimo)\n",
        "\n",
        "\n"
      ],
      "execution_count": 59,
      "outputs": [
        {
          "output_type": "stream",
          "text": [
            "Digite seu nomerenan azedo de oliveira\n",
            "renan\n",
            "oliveira\n"
          ],
          "name": "stdout"
        }
      ]
    },
    {
      "cell_type": "code",
      "metadata": {
        "id": "CVUCWDYYnUKF",
        "colab_type": "code",
        "colab": {
          "base_uri": "https://localhost:8080/",
          "height": 68
        },
        "outputId": "a4eba3c6-8bd2-4f90-e8bf-10016fabb4db"
      },
      "source": [
        "# Exercício 027 - Criar um programa que leia o nome completo de uma pessoa e mostre:\n",
        "# o primeiro e o último nome separadamente\n",
        "\n",
        "nome = str(input('Digite seu nome completo: ')).strip()\n",
        "dividido = (nome.split())\n",
        "ultimo = (dividido[len(dividido) - 1])\n",
        "print(f'Seu primeiro nome é: {(dividido[0])}') \n",
        "print(f'Seu último nome é: {ultimo}')\n",
        "# falta a segunda parte"
      ],
      "execution_count": null,
      "outputs": [
        {
          "output_type": "stream",
          "text": [
            "Digite seu nome completo: Renan azedo de Oliveira\n",
            "Seu primeiro nome é: Renan\n",
            "Seu último nome é: Oliveira\n"
          ],
          "name": "stdout"
        }
      ]
    },
    {
      "cell_type": "code",
      "metadata": {
        "id": "ed6yjIesL5cM",
        "colab_type": "code",
        "colab": {
          "base_uri": "https://localhost:8080/",
          "height": 102
        },
        "outputId": "915d990f-324b-4122-9ba1-25625ce06a33"
      },
      "source": [
        "# Exercício 028 - Crie um programa que faça:\n",
        "# O computador gerar um numero entre 0 e 5\n",
        "# peça para o usuário tentar adivinhar o número escolhido pelo computador\n",
        "# escrever na tela se o usuário venceu ou perdeu\n",
        "\n",
        "from random import randint\n",
        "from time import sleep\n",
        "n = int(randint(0, 5))\n",
        "print('=-=' * 20)\n",
        "r = int(input('Tente adivinhar o número [entre 0 e 5]: '))\n",
        "print('=-=' * 20)\n",
        "print('PROCESSANDO...')\n",
        "sleep(3)\n",
        "if (r) == (n):\n",
        "  print('Parabéns')\n",
        "else:\n",
        "  print(f'Você errou! Eu pensei no número: {n}')\n",
        "\n"
      ],
      "execution_count": null,
      "outputs": [
        {
          "output_type": "stream",
          "text": [
            "=-==-==-==-==-==-==-==-==-==-==-==-==-==-==-==-==-==-==-==-=\n",
            "Tente adivinhar o número [entre 0 e 5]: 4\n",
            "=-==-==-==-==-==-==-==-==-==-==-==-==-==-==-==-==-==-==-==-=\n",
            "PROCESSANDO...\n",
            "Você errou! Eu pensei no número: 3\n"
          ],
          "name": "stdout"
        }
      ]
    },
    {
      "cell_type": "code",
      "metadata": {
        "id": "OYgpZtx7QVhk",
        "colab_type": "code",
        "colab": {
          "base_uri": "https://localhost:8080/",
          "height": 85
        },
        "outputId": "65c95a79-f9f3-493d-e6ed-f90a441f3ea7"
      },
      "source": [
        "# Exercício 029\n",
        "# crie um programa que :\n",
        "# leia a velocidade de um carro\n",
        "# se for acima de 80km/h mostre uma mensagem dizendo que ele foi multado\n",
        "#calcule e mostre a multa ( R$7,00 por km acima do limite)\n",
        "\n",
        "velocidade = int(input('Digite a velocidade: '))\n",
        "if (velocidade)>80:\n",
        "  multa = ((velocidade)-80)*7\n",
        "  print(f'Você ultrapassou o limite de velocidade e será multado em R$ {multa:.2f}')\n",
        "else:\n",
        "  print('Parabéns, você esta dentro do limite de velocidade')\n",
        "print('Obrigado!')\n",
        "print('--FIM--')"
      ],
      "execution_count": null,
      "outputs": [
        {
          "output_type": "stream",
          "text": [
            "Digite a velocidade: 81\n",
            "Você ultrapassou o limite de velocidade e será multado em R$ 7.00\n",
            "Obrigado!\n",
            "--FIM--\n"
          ],
          "name": "stdout"
        }
      ]
    },
    {
      "cell_type": "code",
      "metadata": {
        "id": "WM4uoepVUcOR",
        "colab_type": "code",
        "colab": {
          "base_uri": "https://localhost:8080/",
          "height": 51
        },
        "outputId": "cd939de1-281f-47fd-a054-858825b58358"
      },
      "source": [
        "# Exercício 030 - Crie um programa que leia um nume qualquer e diga se ele é par ou ímpar\n",
        "n = int(input('Digite um número: '))\n",
        "if (n % 2)>0:\n",
        "  print('ÍMPAR')\n",
        "else:\n",
        "  print('PAR')\n"
      ],
      "execution_count": null,
      "outputs": [
        {
          "output_type": "stream",
          "text": [
            "Digite um número: 155\n",
            "ÍMPAR\n"
          ],
          "name": "stdout"
        }
      ]
    },
    {
      "cell_type": "code",
      "metadata": {
        "id": "spw6-VL_W6g0",
        "colab_type": "code",
        "colab": {
          "base_uri": "https://localhost:8080/",
          "height": 85
        },
        "outputId": "62c7981b-933f-44a8-a347-874228517ba9"
      },
      "source": [
        "# Exercício 031 - Crie um programa que:\n",
        "# Pergunte a distância de uma viajem em km\n",
        "# Calcule o preço da passagem\n",
        "# R$ 0,50 por km para viagens até 200km\n",
        "# R$ 0,45 por km para viagens mais longas\n",
        "\n",
        "km = int(input('Insira a distância: '))\n",
        "if (km)>200:\n",
        "  print(f'O valor da passagem é: R$ {(km)*.45:.2f}')\n",
        "else:\n",
        "  print(f'O valor da passagem é: R$ {(km)*.5:.2f}')\n",
        "print('Obrigado!')\n",
        "print('--FIM--')"
      ],
      "execution_count": null,
      "outputs": [
        {
          "output_type": "stream",
          "text": [
            "Insira a distância: 201\n",
            "O valor da passagem é: R$ 90.45\n",
            "Obrigado!\n",
            "--FIM--\n"
          ],
          "name": "stdout"
        }
      ]
    },
    {
      "cell_type": "code",
      "metadata": {
        "id": "vieGcI06Y9-X",
        "colab_type": "code",
        "colab": {
          "base_uri": "https://localhost:8080/",
          "height": 51
        },
        "outputId": "b3af1171-ae38-4496-f58c-27165f16afc3"
      },
      "source": [
        "# Exercício 032 - Crie um programa que leia um ano e mostrese ele é bissexto\n",
        "from datetime import date \n",
        "ano = int(input('Digite o ano: '))\n",
        "if ano == 0:\n",
        "  ano = date.today().year\n",
        "if ano % 4 == 0 and ano % 100 != 0 or ano % 400 ==0:\n",
        " # if (ano % 100 > 0):\n",
        " #   if (ano % 400 > 0):\n",
        "      print(f'O ano {ano} é: Bissexto')\n",
        "else:      \n",
        " print(f'O ano {ano}, Não é Bissexto')\n"
      ],
      "execution_count": null,
      "outputs": [
        {
          "output_type": "stream",
          "text": [
            "Digite o ano: 1977\n",
            "O ano 1977, Não Bissexto\n"
          ],
          "name": "stdout"
        }
      ]
    },
    {
      "cell_type": "code",
      "metadata": {
        "id": "reZ7DO60fxul",
        "colab_type": "code",
        "colab": {
          "base_uri": "https://localhost:8080/",
          "height": 102
        },
        "outputId": "7b7a2e0e-ebbf-46b8-82ba-508122ac07dc"
      },
      "source": [
        "# Exercício 033 - Crie um programa que receba 3 números e diga \n",
        "# qual é o maior e qual é o menor\n",
        "\n",
        "n1 = int(input('digite o 1o Número: '))\n",
        "n2 = int(input('Digite o 2o Número: '))\n",
        "n3 = int(input('Digite o 3o Número: '))\n",
        "menor = n1\n",
        "if n2<n1 and n2<n3:\n",
        "  menor = n2\n",
        "if n3<n1 and n3<n2:\n",
        "  menor = n3\n",
        "maior = n1\n",
        "if n2>n1 and n2>n3:\n",
        "  maior = n2\n",
        "if n3>n1 and n3>n2:\n",
        "  maior = n3\n",
        "print(f'O maior número é: {maior}')\n",
        "print(f'O menor número é: {menor}')"
      ],
      "execution_count": null,
      "outputs": [
        {
          "output_type": "stream",
          "text": [
            "digite o 1o Número: 3\n",
            "Digite o 2o Número: 2\n",
            "Digite o 3o Número: 1\n",
            "O maior número é: 3\n",
            "O menor número é: 1\n"
          ],
          "name": "stdout"
        }
      ]
    },
    {
      "cell_type": "code",
      "metadata": {
        "id": "8lyitUG_nKXx",
        "colab_type": "code",
        "colab": {
          "base_uri": "https://localhost:8080/",
          "height": 102
        },
        "outputId": "e6f25db1-8393-4b05-b067-98b7312532b8"
      },
      "source": [
        "# Exercício 034 - Crie um programa que pergunte o salário de um funcionário\n",
        "# e calcule o aumento\n",
        "# para  salários acima de R$ 1.250,00 aumento de 10%\n",
        "# para inferiores aumento de 15%\n",
        "\n",
        "salario = float(input('Digite seu salário: R$ '))\n",
        "if (salario) > 1250:\n",
        "  print('Você receberá um aumento de 10%')\n",
        "  print(f'Seu novo salário é: R$ {(salario)+(salario * .1):.2f}')\n",
        "else:\n",
        "  print('Você receberá um aumento de 15%')\n",
        "  print(f'Seu novo salário é: R$ {(salario)+(salario * .15):.2f}')\n",
        "print('Obrigado!')\n",
        "print('--FIM--')\n"
      ],
      "execution_count": null,
      "outputs": [
        {
          "output_type": "stream",
          "text": [
            "Digite seu salário: R$ 1000\n",
            "Você receberá um aumento de 15%\n",
            "Seu novo salário é: R$ 1150.00\n",
            "Obrigado!\n",
            "--FIM--\n"
          ],
          "name": "stdout"
        }
      ]
    },
    {
      "cell_type": "code",
      "metadata": {
        "id": "Eksdnylkvxx9",
        "colab_type": "code",
        "colab": {
          "base_uri": "https://localhost:8080/",
          "height": 119
        },
        "outputId": "1f11a5c5-903d-4819-dbd0-53e93b5bb87b"
      },
      "source": [
        "# Exercício 35 - Crie um programa que leia o valor de 3 retas\n",
        "# e responda se é possível formar um triangulo\n",
        "\n",
        "a = int(input('Reta 1: '))\n",
        "b = int(input('Reta 2: '))\n",
        "c = int(input('Reta 3: '))\n",
        "\n",
        "# Condições e Cálculos\n",
        "\n",
        "if (a+b)>c and (a+c)>b and (c+b)>a:\n",
        "  print('É possível formar um triângulo!')\n",
        "else:\n",
        "  print('Não é possível formar um triângulo')\n",
        "print('Obrigado!')\n",
        "print('--FIM--')\n"
      ],
      "execution_count": null,
      "outputs": [
        {
          "output_type": "stream",
          "text": [
            "Reta 1: 2\n",
            "Reta 2: 15\n",
            "Reta 3: 6\n",
            "Não é possível formar um triângulo\n",
            "Obrigado!\n",
            "--FIM--\n"
          ],
          "name": "stdout"
        }
      ]
    },
    {
      "cell_type": "code",
      "metadata": {
        "id": "hNZKrPyhruDv",
        "colab_type": "code",
        "colab": {}
      },
      "source": [
        ""
      ],
      "execution_count": null,
      "outputs": []
    },
    {
      "cell_type": "code",
      "metadata": {
        "id": "NMWTShRyfWnG",
        "colab_type": "code",
        "colab": {
          "base_uri": "https://localhost:8080/",
          "height": 170
        },
        "outputId": "86f305dc-3ebc-4f1f-c55d-3470a0610c6f"
      },
      "source": [
        "# Exercício 0036 -  Criar um programa que:\n",
        "# Faça uma analise de crédito para a compra de uma casa.\n",
        "# O programa vai perguntar:\n",
        "# O valor da casa.\n",
        "# O salário do comprador. \n",
        "# E número de parcelas.\n",
        "# Calcule o valor da parcela mensal, sabendo que ela não pode exceder\n",
        "# 30% do salário do comprador.\n",
        "\n",
        "### INÍCIO ###\n",
        "print('\\33[1;34mPROGRAMA DE ANÁLISE DE CRÉDITO')\n",
        "nome = str(input('Nome: '))\n",
        "salario = float(input('Salário R$: '))\n",
        "casa = float(input('Valor da casa: '))\n",
        "numparc = int(input('Número de parelas: '))\n",
        "valorparc = (casa) / (numparc)\n",
        "print(f'\\033[;1;34mO valor das parcelas é R$ {valorparc}') \n",
        "condicao = (salario) * .3\n",
        "if (valorparc) > (condicao):\n",
        "  print('Este valor supera 30% do seu salário')\n",
        "  print('Seu finaciamento foi\\033[1;31m \"NEGADO!\"\\033[0m')\n",
        "else:\n",
        "  print('Parabéns! Seu financiamento foi \\033[1;32m\"APROVADO\"\\033[0m')\n",
        "print('\\033[1;34mObrigado!\\033[0m')\n",
        "print (condicao)\n"
      ],
      "execution_count": null,
      "outputs": [
        {
          "output_type": "stream",
          "text": [
            "\u001b[1;34mPROGRAMA DE ANÁLISE DE CRÉDITO\n",
            "Nome: Renan Azedo de Oliveira\n",
            "Salário R$: 14500\n",
            "Valor da casa: 150000\n",
            "Número de parelas: 50\n",
            "\u001b[;1;34mO valor das parcelas é R$ 3000.0\n",
            "Parabéns! Seu financiamento foi \u001b[1;32m\"APROVADO\"\u001b[0m\n",
            "\u001b[1;34mObrigado!\u001b[0m\n",
            "4350.0\n"
          ],
          "name": "stdout"
        }
      ]
    },
    {
      "cell_type": "code",
      "metadata": {
        "id": "f3tGHA9gu9El",
        "colab_type": "code",
        "colab": {
          "base_uri": "https://localhost:8080/",
          "height": 306
        },
        "outputId": "cb48ebb5-1fde-4144-d4d5-ae175c9ad12a"
      },
      "source": [
        "# Exercício 037 - Conversor de bases numéricas\n",
        "!pip install emoji\n",
        "num = int(input('Digite um número:' ))\n",
        "print ('''escolha uma opção:\n",
        "[1] Converter para BINÁRIO\n",
        "[2] Converter para OCTAL\n",
        "[3] Converter para HEXADECIMAL''')\n",
        "opcao = int(input('Sua opção: '))\n",
        "# print (bin(num))\n",
        "# binario = (bin(num))\n",
        "#print (binario)\n",
        "\n",
        "if (opcao) == 1:\n",
        "  print (f'O número {num} em BINÁRIO é: {bin(num)[2:]}') # [2:] remove os 2 primeiros caracteres\n",
        "elif (opcao) == 2:\n",
        "  print (f'O número {num} em OCTAL é:{oct(num)[2:]}  ')\n",
        "elif (opcao) == 3:\n",
        "  print (f'O número {num} em HEXADECIMAL é: {bin(num)[2:]}')\n",
        "else:\n",
        "  print ('Opção inváçida')  "
      ],
      "execution_count": null,
      "outputs": [
        {
          "output_type": "stream",
          "text": [
            "Collecting emoji\n",
            "\u001b[?25l  Downloading https://files.pythonhosted.org/packages/ff/1c/1f1457fe52d0b30cbeebfd578483cedb3e3619108d2d5a21380dfecf8ffd/emoji-0.6.0.tar.gz (51kB)\n",
            "\r\u001b[K     |██████▍                         | 10kB 13.8MB/s eta 0:00:01\r\u001b[K     |████████████▉                   | 20kB 3.7MB/s eta 0:00:01\r\u001b[K     |███████████████████▎            | 30kB 4.7MB/s eta 0:00:01\r\u001b[K     |█████████████████████████▊      | 40kB 5.1MB/s eta 0:00:01\r\u001b[K     |████████████████████████████████| 51kB 2.5MB/s \n",
            "\u001b[?25hBuilding wheels for collected packages: emoji\n",
            "  Building wheel for emoji (setup.py) ... \u001b[?25l\u001b[?25hdone\n",
            "  Created wheel for emoji: filename=emoji-0.6.0-cp36-none-any.whl size=49714 sha256=87932a31076681171effe3b21da8f3904d9de34bc7c34d3b2f3208caa171d827\n",
            "  Stored in directory: /root/.cache/pip/wheels/46/2c/8b/9dcf5216ca68e14e0320e283692dce8ae321cdc01e73e17796\n",
            "Successfully built emoji\n",
            "Installing collected packages: emoji\n",
            "Successfully installed emoji-0.6.0\n",
            "Digite um número:1\n",
            "escolha uma opção:\n",
            "[1] Converter para BINÁRIO\n",
            "[2] Converter para OCTAL\n",
            "[3] Converter para HEXADECIMAL\n",
            "Sua opção: 2\n",
            "O número 1 em OCTAL é:1  \n"
          ],
          "name": "stdout"
        }
      ]
    },
    {
      "cell_type": "code",
      "metadata": {
        "id": "fCF5Yj5Vy-UE",
        "colab_type": "code",
        "colab": {
          "base_uri": "https://localhost:8080/",
          "height": 68
        },
        "outputId": "41946c59-6587-4e75-c611-c04c4c6e35d5"
      },
      "source": [
        "# Exercício 038 - Escreva um programa que leia dois npumeros inteiros\n",
        "# e compare-os\n",
        "# dizendo \n",
        "# o primeiro valor é maior\n",
        "# o segundo valor é maior\n",
        "# os dois são iguai\n",
        "\n",
        "n1 = int(input('insira o Valor 1: '))\n",
        "n2 = int(input('Insira o valor 2: '))\n",
        "if (n1) > (n2):\n",
        "  print('O primeiro valor é maior')\n",
        "elif (n1) < (n2):\n",
        "    print('O segundo valor é maior')\n",
        "else:\n",
        "  print('Os valores são íguais')"
      ],
      "execution_count": null,
      "outputs": [
        {
          "output_type": "stream",
          "text": [
            "insira o Valor 1: 78521\n",
            "Insira o valor 2: 98564\n",
            "O segundo valor é maior\n"
          ],
          "name": "stdout"
        }
      ]
    },
    {
      "cell_type": "code",
      "metadata": {
        "id": "Tbx1hN-D2UfM",
        "colab_type": "code",
        "colab": {
          "base_uri": "https://localhost:8080/",
          "height": 284
        },
        "outputId": "096078e4-5133-49fd-891e-cb7918197f97"
      },
      "source": [
        "\n",
        "# Exercício - 039 - Criar um programa que leia - TENTANDO \n",
        "# o nome\n",
        "# o ano de nascimento\n",
        "# calcule a idade\n",
        "# responda se:\n",
        "# deve se alistar  e quanto falta para  se alistar ou\n",
        "# esta atrasado com o alistamento e quanto esta atrasado\n",
        "\n",
        "from datetime import datetime\n",
        "\n",
        "# Dados Pessoais\n",
        "nome = str(input('Nome: ')).strip() # Recebe o nome e remove os espaços com .srip\n",
        "nasc = int(input('Ano de nascimento: '))\n",
        "hoje = datetime.now()\n",
        "ano_atual = hoje.strftime('%Y')\n",
        "\n",
        "print (ano_atual)\n",
        "alistamento = (ano_atual) - (nasc)\n",
        "if (alistamento) > 18:\n",
        "  print('Atrasado')\n",
        "elif (alistamento) < 18:\n",
        "  print('Adiantado')\n",
        "else:\n",
        "  print('Imediato')\n",
        "\n",
        "'''# Ajustar a data de nascimento\n",
        "ajustnasc = datetime.strptime((nasc), '%d/%m/%Y') # Converte a (nasc) para data\n",
        "#print (type(ajustnasc))\n",
        "#print (ajustnasc)\n",
        "\n",
        "\n",
        "\n",
        "# Ajustar a data atual\n",
        "hoje = datetime.now()\n",
        "#local = hoje.strftime('%c')\n",
        "dia = hoje.strftime('%d')\n",
        "mes = hoje.strftime('%m')\n",
        "ano = hoje.strftime('%Y')\n",
        "data_atual = (f'{dia}/{mes}/{ano}') # string\n",
        "#print (local)\n",
        "#print (hoje)\n",
        "#print (type(hoje))\n",
        "\n",
        "\n",
        "print (f'Nome:', nome.upper())\n",
        "print (f'Data de nascimento:', nasc)\n",
        "print (f'Data:', data_atual)\n",
        "\n",
        "idade_estranha = (hoje - ajustnasc) \n",
        "idade_anos = datetime.strftime(idade_estranha, '%Y %m %d')\n",
        "\n",
        "#limpa_idade = \n",
        "#print (limpa_idade)\n",
        "print (idade_estranha)\n",
        "'''"
      ],
      "execution_count": null,
      "outputs": [
        {
          "output_type": "stream",
          "text": [
            "Nome: e\n",
            "Ano de nascimento: 2000\n",
            "2020\n"
          ],
          "name": "stdout"
        },
        {
          "output_type": "error",
          "ename": "TypeError",
          "evalue": "ignored",
          "traceback": [
            "\u001b[0;31m---------------------------------------------------------------------------\u001b[0m",
            "\u001b[0;31mTypeError\u001b[0m                                 Traceback (most recent call last)",
            "\u001b[0;32m<ipython-input-129-d26125ff3fb3>\u001b[0m in \u001b[0;36m<module>\u001b[0;34m()\u001b[0m\n\u001b[1;32m     16\u001b[0m \u001b[0mano_atual\u001b[0m \u001b[0;34m=\u001b[0m \u001b[0mhoje\u001b[0m\u001b[0;34m.\u001b[0m\u001b[0mstrftime\u001b[0m\u001b[0;34m(\u001b[0m\u001b[0;34m'%Y'\u001b[0m\u001b[0;34m)\u001b[0m\u001b[0;34m\u001b[0m\u001b[0;34m\u001b[0m\u001b[0m\n\u001b[1;32m     17\u001b[0m \u001b[0mprint\u001b[0m \u001b[0;34m(\u001b[0m\u001b[0mano_atual\u001b[0m\u001b[0;34m)\u001b[0m\u001b[0;34m\u001b[0m\u001b[0;34m\u001b[0m\u001b[0m\n\u001b[0;32m---> 18\u001b[0;31m \u001b[0malistamento\u001b[0m \u001b[0;34m=\u001b[0m \u001b[0;34m(\u001b[0m\u001b[0mano_atual\u001b[0m\u001b[0;34m)\u001b[0m \u001b[0;34m-\u001b[0m \u001b[0;34m(\u001b[0m\u001b[0mnasc\u001b[0m\u001b[0;34m)\u001b[0m\u001b[0;34m\u001b[0m\u001b[0;34m\u001b[0m\u001b[0m\n\u001b[0m\u001b[1;32m     19\u001b[0m \u001b[0;32mif\u001b[0m \u001b[0;34m(\u001b[0m\u001b[0malistamento\u001b[0m\u001b[0;34m)\u001b[0m \u001b[0;34m>\u001b[0m \u001b[0;36m18\u001b[0m\u001b[0;34m:\u001b[0m\u001b[0;34m\u001b[0m\u001b[0;34m\u001b[0m\u001b[0m\n\u001b[1;32m     20\u001b[0m   \u001b[0mprint\u001b[0m\u001b[0;34m(\u001b[0m\u001b[0;34m'Atrasado'\u001b[0m\u001b[0;34m)\u001b[0m\u001b[0;34m\u001b[0m\u001b[0;34m\u001b[0m\u001b[0m\n",
            "\u001b[0;31mTypeError\u001b[0m: unsupported operand type(s) for -: 'str' and 'int'"
          ]
        }
      ]
    },
    {
      "cell_type": "code",
      "metadata": {
        "id": "l5xafOj3J99t",
        "colab_type": "code",
        "colab": {
          "base_uri": "https://localhost:8080/",
          "height": 85
        },
        "outputId": "02b37cb8-b729-4a16-d1e8-258a5b48359f"
      },
      "source": [
        "# Exercício 039 - Alistamento\n",
        "\n",
        "from datetime import date\n",
        "\n",
        "ano_atual = date.today().year\n",
        "ano_nasc = int(input('Ano nascimento: '))\n",
        "idade = (ano_atual - ano_nasc)\n",
        "print (f'Quem nasceu em {ano_nasc}, tem {idade} anos em {ano_atual}')\n",
        "\n",
        "if (idade) == 18:\n",
        "  print('Imediato')\n",
        "\n",
        "elif (idade) > 18:\n",
        "  saldo = (idade) - 18\n",
        "  ano = (ano_atual) - (saldo)\n",
        "  print (f'Atrasado {saldo} anos')\n",
        "  print (f'seu alistamento foi em: {ano}')\n",
        "\n",
        "elif (idade) < 18:\n",
        "  saldo = 18 - (idade)\n",
        "  ano = (ano_atual) +(saldo)\n",
        "  print (f'Adiantado {saldo} anos')\n",
        "  print (f'Seu alistamento será em {ano}' )\n"
      ],
      "execution_count": null,
      "outputs": [
        {
          "output_type": "stream",
          "text": [
            "Ano nascimento: 2005\n",
            "Quem nasceu em 2005, tem 15 anos em 2020\n",
            "Adiantado 3 anos\n",
            "Seu alistamento foi em 2023\n"
          ],
          "name": "stdout"
        }
      ]
    },
    {
      "cell_type": "code",
      "metadata": {
        "id": "NB4yAIc78NZY",
        "colab_type": "code",
        "colab": {
          "base_uri": "https://localhost:8080/",
          "height": 102
        },
        "outputId": "b0942a46-f627-45b0-f931-e243f158c9c2"
      },
      "source": [
        "# Exemplo Data atual no formato brasileiro com srtftime\n",
        "from datetime import datetime\n",
        "now = datetime.now()\n",
        "print (now)\n",
        "dia = now.strftime('%d')\n",
        "mes = now.strftime('%m')\n",
        "ano = now.strftime('%Y')\n",
        "print (f'{dia}/{mes}/{ano}')\n",
        "\n",
        "# Exemplo input data - converter string em data\n",
        "\n",
        "data_texto = input('dd/mm/ano: ')\n",
        "data_formatada = datetime.strptime(data_texto, '%d/%m/%Y')\n",
        "print (data_formatada.strftime('%d/%m/%Y'))\n",
        "print (type(data_formatada))\n",
        "\n",
        "\n"
      ],
      "execution_count": null,
      "outputs": [
        {
          "output_type": "stream",
          "text": [
            "2020-08-03 03:27:45.945003\n",
            "03/08/2020\n",
            "dd/mm/ano: 26/03/1977\n",
            "26/03/1977\n",
            "<class 'datetime.datetime'>\n"
          ],
          "name": "stdout"
        }
      ]
    },
    {
      "cell_type": "code",
      "metadata": {
        "id": "5YYwewc7XV5n",
        "colab_type": "code",
        "colab": {
          "base_uri": "https://localhost:8080/",
          "height": 68
        },
        "outputId": "ffcf6c7c-5143-4a09-c322-ebff7b2fd074"
      },
      "source": [
        "# Exercício 040 - Criar um programa que receba duas notas de um aluno e:\n",
        "# calcule a média \n",
        "# Média abaixo de 5.0 REPROVADO\n",
        "# Média de 5.0 a 6.9 RECUPERAÇÃO\n",
        "# Média de acima de 7.0 APROVADO\n",
        "\n",
        "nota1 = float(input('Nota 1: '))\n",
        "nota2 = float(input('Nota 2: '))\n",
        "media = float((nota1 + nota2) / 2)\n",
        "if (media) >= 7.0:\n",
        "  print('APROVADO')\n",
        "elif (media) >= 5 < 7:\n",
        "  print ('RECUPERAÇÃO')\n",
        "elif (media) < 5:\n",
        "  print('REPROVADO')"
      ],
      "execution_count": null,
      "outputs": [
        {
          "output_type": "stream",
          "text": [
            "Nota 1: 1\n",
            "Nota 2: 1\n",
            "REPROVADO\n"
          ],
          "name": "stdout"
        }
      ]
    },
    {
      "cell_type": "code",
      "metadata": {
        "id": "ebRzcZ5ebfxF",
        "colab_type": "code",
        "colab": {
          "base_uri": "https://localhost:8080/",
          "height": 68
        },
        "outputId": "4fccc866-181f-4484-c650-958d35d27511"
      },
      "source": [
        "# Programa que receba o ano de nascimento de um atleta e:\n",
        "# até 9 anos - MIRIM\n",
        "# até 14 - infaltil\n",
        "# até 19 - JUNIOR\n",
        "# 20 - SÊNIOR\n",
        "# Acima - MASTER\n",
        "from datetime import date\n",
        "ano = int(input('Ano de nascimento: '))\n",
        "ano_atual = date.today().year\n",
        "idade = ano_atual - ano\n",
        "print (f'Sua idade é: {idade} anos')\n",
        "\n",
        "if idade <= 9: # Até 9 anos\n",
        "  print(f'A sua categoria é mirim!')\n",
        "\n",
        "elif idade <= 14: #  9 Até 14 anos\n",
        "  print('Sua categoria é infantil')\n",
        "\n",
        "elif idade <= 19: # 15 até 19\n",
        "  print('Sua categoria é Júnior')\n",
        "\n",
        "elif idade <= 25:\n",
        "  print('Sua categoria é Sênior')\n",
        "\n",
        "else:\n",
        "  print ('Sua categoria é Master')\n",
        "\n"
      ],
      "execution_count": null,
      "outputs": [
        {
          "output_type": "stream",
          "text": [
            "Ano de nascimento: 1994\n",
            "Sua idade é: 26 anos\n",
            "Sua categoria é Master\n"
          ],
          "name": "stdout"
        }
      ]
    },
    {
      "cell_type": "code",
      "metadata": {
        "id": "krGfAv51tzuE",
        "colab_type": "code",
        "colab": {
          "base_uri": "https://localhost:8080/",
          "height": 85
        },
        "outputId": "427cd0eb-ecad-4d7c-b2c8-a695b21f61e5"
      },
      "source": [
        "# Exercício 042 - Criar um programa que:\n",
        "# Receba 3 valores de reta \n",
        "# verifique se é possivel formar um triângulo\n",
        "# diga se é isosceles, escaleno, equilátero ou \n",
        "# não forma triângulo\n",
        "\n",
        "a = int(input('Valor 1: '))\n",
        "b = int(input('Valor 2: '))\n",
        "c = int(input('Valor 3: '))\n",
        "\n",
        "if (a+b)>c and (a+c)>b and (c+b)>a:\n",
        "  if a == b == b == c:\n",
        "    print('É possível formar um triângulo EQUILÁTERO') \n",
        "  elif a != b != c != a:\n",
        "      print ('É possível formar um triângulo ESCALENO')\n",
        "  else:\n",
        "    print ('É possível formar um triângulo ISOSCELES')\n",
        "else:\n",
        "  print ('Não forma triângulo')"
      ],
      "execution_count": null,
      "outputs": [
        {
          "output_type": "stream",
          "text": [
            "Valor 1: 75\n",
            "Valor 2: 4\n",
            "Valor 3: 4\n",
            "Não forma triângulo\n"
          ],
          "name": "stdout"
        }
      ]
    },
    {
      "cell_type": "code",
      "metadata": {
        "id": "Wu6ZZDAL0-gR",
        "colab_type": "code",
        "colab": {
          "base_uri": "https://localhost:8080/",
          "height": 85
        },
        "outputId": "78696afd-9372-4f52-c428-ea969316369e"
      },
      "source": [
        "# Exercício 043 - Calcular IMC com base no peso, altura e sexo \n",
        "# ABAIXO DE 18,5 - baixo do peso\n",
        "# entre 18,5 e 25 - peso ideal\n",
        "# entre 25 e 30 - sobrepeso\n",
        "# entre 30 e 40 obeso\n",
        "# acima de 40 - obesidade mórbida\n",
        "# Para homens: (72.7*h) - 58\n",
        "# Para mulheres: (62.1*h) - 44.7\n",
        "\n",
        "altura = float(input('Altura: '))\n",
        "peso = float(input('Peso: '))\n",
        "imc = (peso / (altura ** 2))\n",
        "print (imc)\n",
        "if imc < 18.5:\n",
        "  print ('Abaixo do peso')\n",
        "elif imc >= 18.5 and imc < 25:\n",
        "  print('Peso ideal')  \n",
        "elif imc >=25 and imc < 30:\n",
        "  print('Sobrepeso')\n",
        "elif imc >=30 and imc <41:\n",
        "  print('Obeso')\n",
        "else:\n",
        "  print('Obesidade Mórbida')\n",
        "  \n"
      ],
      "execution_count": null,
      "outputs": [
        {
          "output_type": "stream",
          "text": [
            "Altura: 1.66\n",
            "Peso: 120\n",
            "43.54768471476267\n",
            "Obesidade Mórbida\n"
          ],
          "name": "stdout"
        }
      ]
    },
    {
      "cell_type": "code",
      "metadata": {
        "id": "D-iIKKH4NTfI",
        "colab_type": "code",
        "colab": {
          "base_uri": "https://localhost:8080/",
          "height": 131
        },
        "outputId": "b0a0ef1e-74df-4d7c-a40a-3d5e074f8400"
      },
      "source": [
        "# Exercício 044 - Elabore um programa que calcule o valor a ser pago por um produto,\n",
        "# considerando o seu preço normal e condição de pagamento:\n",
        "# à vista dinheiro/cheque: 10% de desconto\n",
        "# à vista no cartão: 5% de desconto\n",
        "# em até 2x no cartão: preço formal\n",
        "# 3x ou mais no cartão: 20% de juros\n",
        "\n",
        "print('\\33[1;31mLOJAS AZEDO\\33[0m')\n",
        "\n",
        "valor = float(input('Insira o valor do produto R$: '))\n",
        "condicao = int(input('''1 - À VISTA DINHEIRO/CHEQUE 10% OFF\n",
        "2 - À VISTA CARTÃO 5% OFF\n",
        "3 - 2 X CARTÃO SEM DESCONTO\n",
        "4 - 3X OU MAIS - 20% DE JUROS: \n",
        "Opção: '''\n",
        "))\n",
        "print ('')\n",
        "\n",
        "if condicao == 1: # A VISTA 10%\n",
        "  preco_final = valor - (valor * .1)\n",
        "  print ('Você escolheu pagar à vista e recebeu 10% de desconto')\n",
        "  print (f'O valor total a pagar é R$: {preco_final:.2f}')\n",
        "\n",
        "elif condicao == 2: # A VISTA CARTÃO\n",
        "  preco_final = valor - (valor * .05)\n",
        "  print ('Você escolheu pagar á vista no cartão e recebeu 5% de desconto')\n",
        "  print (f'O valor total a pagar é R$: {preco_final:.2f}')\n",
        "\n",
        "elif condicao == 3: # 2 X CARTÃO SEM DESCONTO\n",
        "  print ('Você escolheu pagar em 2 X no cartão e não recebeu descontos')\n",
        "  print (f' O valor parcelado a pagar será 2X de R$: {valor / 2:.2f}')\n",
        "\n",
        "elif condicao == 4: # 3 OU MAIS X NO CARTÃO\n",
        "  tot_parc = int(input('Total de parcelas: '))\n",
        "  preco_final = valor + (valor * .2)\n",
        "  print (f'Voce escolheu pagar em {tot_parc} vezes no cartão. 20% de acréscimo')\n",
        "  print (f'O valor parcelado a pagar será {tot_parc} parcelas de R$: {preco_final / tot_parc:.2f}') \n",
        "  print (f'Sua compra de R${valor:.2f}, vai custar R$: {preco_final:.2f}')\n"
      ],
      "execution_count": null,
      "outputs": [
        {
          "output_type": "error",
          "ename": "SyntaxError",
          "evalue": "ignored",
          "traceback": [
            "\u001b[0;36m  File \u001b[0;32m\"<ipython-input-37-5860db4f1ef5>\"\u001b[0;36m, line \u001b[0;32m8\u001b[0m\n\u001b[0;31m    print((=^40)'\\33[1;31mLOJAS AZEDO\\33[0m')\u001b[0m\n\u001b[0m           ^\u001b[0m\n\u001b[0;31mSyntaxError\u001b[0m\u001b[0;31m:\u001b[0m invalid syntax\n"
          ]
        }
      ]
    },
    {
      "cell_type": "code",
      "metadata": {
        "id": "d5mh-ELsfbho",
        "colab_type": "code",
        "colab": {
          "base_uri": "https://localhost:8080/",
          "height": 272
        },
        "outputId": "93be1409-1781-4ee2-aef6-2455f61c98e5"
      },
      "source": [
        "# Exercício 045 - Pedra, Papel e Tesoura\n",
        "!pip3 install emoji\n",
        "import emoji\n",
        "from random import randint\n",
        "from time import sleep\n",
        "itens = ('PEDRA', 'PAPEL', 'TESOURA')\n",
        "pedra = (':fist:')\n",
        "papel = (':hand:')\n",
        "tesoura = (':v:')\n",
        "#ico = (':fist:', ':hand:', ':v:')\n",
        "#print(emoji.emojize(':thumbs_up:', use_aliases=True))\n",
        "print(emoji.emojize('[0] :fist: - PEDRA', use_aliases=True))\n",
        "print(emoji.emojize('[1] :hand: - PAPEL', use_aliases=True))\n",
        "print(emoji.emojize('[2] :v: - TESOURA', use_aliases=True))\n",
        " \n",
        "jogador = int(input('Escolha uma opção: '))\n",
        "print('')\n",
        "if jogador == 0:\n",
        "  print (emoji.emojize('Boa escolha: :fist:', use_aliases=True))\n",
        "elif jogador == 1:\n",
        "  print (emoji.emojize('Boa escolha! :hand:', use_aliases=True))\n",
        "else:\n",
        "  print(emoji.emojize('Boa escolha: :v:', use_aliases=True))\n",
        "\n",
        "computador = randint(0, 2)\n",
        "sleep(1)\n",
        "print('JO')\n",
        "sleep(1)\n",
        "print('KEN')\n",
        "sleep(1)\n",
        "print('PO')\n",
        "sleep(1)\n",
        "# Ícones do computador\n",
        "if computador == 0:\n",
        "  ico = (':fist:')\n",
        "elif computador == 1:\n",
        "  ico = (':hand:')\n",
        "else:\n",
        "  ico = (':v:')\n",
        " \n",
        "# Ícones do jogador\n",
        "if jogador == 0:\n",
        "  ico_j = (':fist:')\n",
        "elif jogador == 1:\n",
        "  ico_j = (':hand:')\n",
        "else:\n",
        "  ico_j =(':v:')\n",
        " \n",
        "print('-='*18)\n",
        "print (emoji.emojize(f'\\33[1;33mCOMPUTADOR...: - {ico} - {itens[computador]}!\\33[0m', use_aliases=True))\n",
        "print (emoji.emojize(f'\\33[1;34mJOGADOR......: - {ico_j} - {itens[jogador]}!\\33[0m', use_aliases=True))\n",
        "print ('-='*18)\n",
        " \n",
        "# JOGADAS POSSÍVEIS\n",
        " \n",
        "if computador == 0:\n",
        "  if jogador == 0:\n",
        "    print (emoji.emojize('\\33[1;35mEMPATOU!\\33[0m:confused:', use_aliases=True))\n",
        "  elif jogador == 1:\n",
        "    print (emoji.emojize('\\33[1;32mVocê ganhou!:\\33[0m:smile_cat:', use_aliases=True))\n",
        "  elif jogador == 2:\n",
        "    print (emoji.emojize('\\33[1;31mVocê perdeu!\\33[0m :skull:', use_aliases=True))\n",
        " \n",
        "elif computador == 1:\n",
        "  if jogador == 0:\n",
        "    print(emoji.emojize('\\33[1;31mVocê perdeu!\\33[0m :skull:', use_aliases=True))\n",
        "  elif jogador == 1:\n",
        "    print(emoji.emojize('\\33[1;35mEMPATOU!\\33[0m:confused:', use_aliases=True))\n",
        "  elif jogador ==2:\n",
        "    print(emoji.emojize('\\33[1;32mVocê ganhou!:\\33[0m:smile_cat', use_aliases=True))\n",
        " \n",
        "elif computador == 2:\n",
        "  if jogador == 0:\n",
        "    print(emoji.emojize('\\33[1;32mVocê ganhou!:\\33[0m:smile_cat:', use_aliases=True))\n",
        "  elif jogador == 1:\n",
        "    print(emoji.emojize('\\33[1;31mVocê perdeu!\\33[0m :skull:', use_aliases=True))\n",
        "  elif jogador == 2:\n",
        "    print(emoji.emojize('\\33[1;35mEMPATOU!\\33[0m:confused:', use_aliases=True))\n",
        "  else:\n",
        "    print('jogada inválida!')"
      ],
      "execution_count": null,
      "outputs": [
        {
          "output_type": "stream",
          "text": [
            "Requirement already satisfied: emoji in /usr/local/lib/python3.6/dist-packages (0.6.0)\n",
            "[0] ✊ - PEDRA\n",
            "[1] ✋ - PAPEL\n",
            "[2] ✌ - TESOURA\n",
            "Escolha uma opção: 0\n",
            "\n",
            "Boa escolha: ✊\n",
            "JO\n",
            "KEN\n",
            "PO\n",
            "-=-=-=-=-=-=-=-=-=-=-=-=-=-=-=-=-=-=\n",
            "\u001b[1;33mCOMPUTADOR...: - ✌ - TESOURA!\u001b[0m\n",
            "\u001b[1;34mJOGADOR......: - ✊ - PEDRA!\u001b[0m\n",
            "-=-=-=-=-=-=-=-=-=-=-=-=-=-=-=-=-=-=\n",
            "\u001b[1;32mVocê ganhou!:\u001b[0m😸\n"
          ],
          "name": "stdout"
        }
      ]
    },
    {
      "cell_type": "code",
      "metadata": {
        "id": "aqHI9Ter7lKG",
        "colab_type": "code",
        "colab": {
          "base_uri": "https://localhost:8080/",
          "height": 34
        },
        "outputId": "b1c0af6c-3952-46f9-b62b-50a0f6048d9a"
      },
      "source": [
        "#@title Texto de título padrão \n",
        "#@markdown Ficha Cadastral\n",
        "\n",
        "Nome = 'Zé  ' #@param\n",
        "Sobrenome = 'das Couves' #@param\n",
        "Nascimento = '1977-03-26' #@param {type: \"date\"}\n",
        "print (Nascimento)\n",
        "\n",
        "\n"
      ],
      "execution_count": null,
      "outputs": [
        {
          "output_type": "stream",
          "text": [
            "1977-03-26\n"
          ],
          "name": "stdout"
        }
      ]
    },
    {
      "cell_type": "code",
      "metadata": {
        "id": "GN-Ger7h_fhC",
        "colab_type": "code",
        "colab": {
          "base_uri": "https://localhost:8080/",
          "height": 235
        },
        "outputId": "4457d704-404c-4197-9458-1e9611b29e8e"
      },
      "source": [
        "# Exercício 046 - Faça um programa que:\n",
        "# faça uma contagem regressiva de 10 a 9 com pausas de 1 segundo\n",
        "# imprima fogos na tela\n",
        "\n",
        "from time import sleep\n",
        "for c in range(10, -1, -1):\n",
        "  print (c)\n",
        "  sleep(1)\n",
        "print (emoji.emojize(':fireworks:' * 20))\n"
      ],
      "execution_count": null,
      "outputs": [
        {
          "output_type": "stream",
          "text": [
            "10\n",
            "9\n",
            "8\n",
            "7\n",
            "6\n",
            "5\n",
            "4\n",
            "3\n",
            "2\n",
            "1\n",
            "0\n",
            "🎆🎆🎆🎆🎆🎆🎆🎆🎆🎆🎆🎆🎆🎆🎆🎆🎆🎆🎆🎆\n"
          ],
          "name": "stdout"
        }
      ]
    },
    {
      "cell_type": "code",
      "metadata": {
        "id": "PZQ-5xzbE6V_",
        "colab_type": "code",
        "colab": {
          "base_uri": "https://localhost:8080/",
          "height": 35
        },
        "outputId": "5b10a60d-6533-48ee-8f6b-c80c42045d27"
      },
      "source": [
        "# Exercício - 047 - Crie um programa que\n",
        "# mostre todos os números pares entre 1 e 50\n",
        "# FUNCIONA\n",
        "for cont in range(2, 51, 2): # conta 25 vezes\n",
        "# print (f'{cont}', end=' ')\n",
        "  print (cont, end=' ')\n",
        "\n",
        "#for cont in range(1, 51):\n",
        " # if cont % 2 == 0: # conta 50 vezes\n",
        "#    print (cont, end=' ')\n",
        "\n",
        "  \n"
      ],
      "execution_count": null,
      "outputs": [
        {
          "output_type": "stream",
          "text": [
            "2 4 6 8 10 12 14 16 18 20 22 24 26 28 30 32 34 36 38 40 42 44 46 48 50 "
          ],
          "name": "stdout"
        }
      ]
    },
    {
      "cell_type": "code",
      "metadata": {
        "id": "_eJ8DAUkKDOZ",
        "colab_type": "code",
        "colab": {
          "base_uri": "https://localhost:8080/",
          "height": 35
        },
        "outputId": "f6ccef95-d9b7-4beb-b531-963e101e8324"
      },
      "source": [
        "# Exercício 048 - faça um programa que:\n",
        "# faça a soma de todos os números impares multiplos de 3 entre 1 e 500\n",
        "soma = 0\n",
        "cont = 0\n",
        "for c in range(1 , 501, 2):\n",
        "  if c % 3 == 0:\n",
        "    soma += c # SOMA = SOMA + C\n",
        "    cont += 1\n",
        "\n",
        "print(f'A soma dos {cont} números foi {soma}')"
      ],
      "execution_count": null,
      "outputs": [
        {
          "output_type": "stream",
          "text": [
            "A soma dos 83 números foi 20667\n"
          ],
          "name": "stdout"
        }
      ]
    },
    {
      "cell_type": "code",
      "metadata": {
        "id": "HSwlxDN0ttkp",
        "colab_type": "code",
        "colab": {
          "base_uri": "https://localhost:8080/",
          "height": 221
        },
        "outputId": "71325016-bcf1-4011-dc76-8d0b6e67fbde"
      },
      "source": [
        "# Exercício 049 - Receber um número e exibir sua tabuada.\n",
        "\n",
        "numero = int(input('Digite um número, para exibir sua tabuada: '))\n",
        "for c in range(0, 11):\n",
        "  print(f'{numero} X {c:2} = {numero * c:2}')\n"
      ],
      "execution_count": 60,
      "outputs": [
        {
          "output_type": "stream",
          "text": [
            "Digite um número, para exibir sua tabuada: 5\n",
            "5 X  0 =  0\n",
            "5 X  1 =  5\n",
            "5 X  2 = 10\n",
            "5 X  3 = 15\n",
            "5 X  4 = 20\n",
            "5 X  5 = 25\n",
            "5 X  6 = 30\n",
            "5 X  7 = 35\n",
            "5 X  8 = 40\n",
            "5 X  9 = 45\n",
            "5 X 10 = 50\n"
          ],
          "name": "stdout"
        }
      ]
    },
    {
      "cell_type": "code",
      "metadata": {
        "id": "DdA6yxWvwx9c",
        "colab_type": "code",
        "colab": {
          "base_uri": "https://localhost:8080/",
          "height": 145
        },
        "outputId": "377ccec8-ae6c-46e9-a5dd-1cfb7bec480c"
      },
      "source": [
        "'''Exercício Python 050: Desenvolva um programa que \n",
        "leia seis números inteiros e\n",
        " mostre a soma apenas daqueles que forem pares.\n",
        "  Se o valor digitado for ímpar, desconsidere-o.\n",
        "'''\n",
        "soma = 0\n",
        "contador = 0\n",
        "for c in range(0, 6):\n",
        "  numero = int(input('Digite um número:'))\n",
        "  if numero % 2 == 0:\n",
        "    soma += numero\n",
        "    contador += 1\n",
        "print (f'A soma dos pares é {soma}')  "
      ],
      "execution_count": null,
      "outputs": [
        {
          "output_type": "stream",
          "text": [
            "Digite um número:10\n",
            "Digite um número:11\n",
            "Digite um número:12\n",
            "Digite um número:13\n",
            "Digite um número:14\n",
            "Digite um número:15\n",
            "A soma dos pares é 36\n"
          ],
          "name": "stdout"
        }
      ]
    },
    {
      "cell_type": "code",
      "metadata": {
        "id": "Nx5T2jVh0MiO",
        "colab_type": "code",
        "colab": {
          "base_uri": "https://localhost:8080/",
          "height": 72
        },
        "outputId": "9a0255c8-8516-4ec5-d1d1-cf424e81142b"
      },
      "source": [
        "'''Exercício Python 051: Desenvolva um programa que\n",
        "leia o primeiro termo e a razão de uma PA.\n",
        "No final, mostre os 10 primeiros termos dessa progressão.'''\n",
        "\n",
        "primeiro = int(input('Primeiro: '))\n",
        "razao = int(input('Razão: '))\n",
        "decimo = primeiro + (10 - 1) * razao\n",
        "for c in range(primeiro, decimo + razao, razao):\n",
        "  print (c, end=' ')\n",
        "\n"
      ],
      "execution_count": null,
      "outputs": [
        {
          "output_type": "stream",
          "text": [
            "Primeiro: 0\n",
            "Razão: 2\n",
            "0 2 4 6 8 10 12 14 16 18 "
          ],
          "name": "stdout"
        }
      ]
    },
    {
      "cell_type": "code",
      "metadata": {
        "id": "2I8fzFCYvgKN",
        "colab_type": "code",
        "colab": {
          "base_uri": "https://localhost:8080/",
          "height": 108
        },
        "outputId": "e01a7854-f098-467e-c5e4-a5b2d2844bdc"
      },
      "source": [
        "# Exercício Python 052: Faça um programa que\n",
        "# leia um número inteiro e diga se ele é ou não um número primo.\n",
        "\n",
        "numero = int(input('Digite um número: '))\n",
        "total = 0\n",
        "for c in range(1, numero + 1):\n",
        "\n",
        "  if numero % c == 0:\n",
        "    total += 1\n",
        "    print ('\\033[1;34m', end=(' '))\n",
        "  else:\n",
        "    print ('\\33[1;33m', end=(' '))\n",
        "  print (f'{c}', end=' ')\n",
        "print ('\\33[0m')\n",
        "\n",
        "print (f'O número {numero} foi divisível {total} vezes')\n",
        "if total == 2:\n",
        "  print ('É PRIMO')\n",
        "else:\n",
        "  print ('NÃO É PRIMO')\n",
        "\n",
        "print ('FIM') \n"
      ],
      "execution_count": null,
      "outputs": [
        {
          "output_type": "stream",
          "text": [
            "Digite um número: 28\n",
            "\u001b[1;34m 1 \u001b[1;34m 2 \u001b[1;33m 3 \u001b[1;34m 4 \u001b[1;33m 5 \u001b[1;33m 6 \u001b[1;34m 7 \u001b[1;33m 8 \u001b[1;33m 9 \u001b[1;33m 10 \u001b[1;33m 11 \u001b[1;33m 12 \u001b[1;33m 13 \u001b[1;34m 14 \u001b[1;33m 15 \u001b[1;33m 16 \u001b[1;33m 17 \u001b[1;33m 18 \u001b[1;33m 19 \u001b[1;33m 20 \u001b[1;33m 21 \u001b[1;33m 22 \u001b[1;33m 23 \u001b[1;33m 24 \u001b[1;33m 25 \u001b[1;33m 26 \u001b[1;33m 27 \u001b[1;34m 28 \u001b[0m\n",
            "O número 28 foi divisível 6 vezes\n",
            "NÃO É PRIMO\n",
            "FIM\n"
          ],
          "name": "stdout"
        }
      ]
    },
    {
      "cell_type": "code",
      "metadata": {
        "id": "ntQMzFguOk46",
        "colab_type": "code",
        "colab": {
          "base_uri": "https://localhost:8080/",
          "height": 102
        },
        "outputId": "65287596-c0b1-4d7c-eb40-42a9a9de9d76"
      },
      "source": [
        "# Exercício Python 053: Crie um programa que\n",
        "# leia uma frase qualquer e diga se ela é um palíndromo,\n",
        "# desconsiderando os espaços.\n",
        "\n",
        "frase = str(input('Digite a palavra')).strip().upper()\n",
        "print(f'Vocè digitou {frase}')\n",
        "palavras = frase.split() # separar palavras\n",
        "print (palavras)\n",
        "junto = ''.join(palavras) # juntar letras\n",
        "#print (junto)\n",
        "inverso = junto[::-1] # substitui o for\n",
        "#inverso = ''\n",
        "#for letra in range(len(junto) -1, -1, -1):\n",
        " # inverso += junto[letra]\n",
        "#print (inverso)\n",
        "if inverso == junto:\n",
        "  print (f'Voce digitou {junto} e o inverso é {inverso}')\n",
        "  print ('É um palindromo')\n",
        "else:\n",
        "  print(f'Voce digitou {junto} e o inverso é {inverso}')\n",
        "  print ('Não é palindromo')\n",
        "\n"
      ],
      "execution_count": null,
      "outputs": [
        {
          "output_type": "stream",
          "text": [
            "Digite a palavrarenan azedo\n",
            "Vocè digitou RENAN AZEDO\n",
            "['RENAN', 'AZEDO']\n",
            "Voce digitou RENANAZEDO e o inverso é ODEZANANER\n",
            "Não é palindromo\n"
          ],
          "name": "stdout"
        }
      ]
    },
    {
      "cell_type": "code",
      "metadata": {
        "id": "E7uSDoEjaKGq",
        "colab_type": "code",
        "colab": {
          "base_uri": "https://localhost:8080/",
          "height": 408
        },
        "outputId": "1db48181-80ec-4feb-b53b-83580935e43d"
      },
      "source": [
        "# Exercício Python 054: Crie um programa que\n",
        "# leia o ano de nascimento de sete pessoas.\n",
        "# No final, mostre quantas pessoas ainda não atingiram a maioridade \n",
        "# e quantas já são maiores.\n",
        "\n",
        "from datetime import date\n",
        "ano_atual = date.today().year\n",
        "totmaior = 0\n",
        "totmenor = 0\n",
        "\n",
        "for pessoas in range(1, 8):\n",
        "  nascimento = int(input('Em que ano voce nasceu: '))\n",
        "  idade = ano_atual - nascimento\n",
        "  if idade >= 21:\n",
        "    print ('Maior de idade')\n",
        "    totmaior += 1\n",
        "  else:\n",
        "    print ('Menor de idade')\n",
        "    totmenor += 1\n",
        " print (idade) \n",
        "print (f'{totmaior} maiores de idade')\n",
        "print (f'{totmenor} menores de idade')"
      ],
      "execution_count": null,
      "outputs": [
        {
          "output_type": "stream",
          "text": [
            "Em que ano voce nasceu: 2000\n",
            "Menor de idade\n",
            "20\n",
            "Em que ano voce nasceu: 2005\n",
            "Menor de idade\n",
            "15\n",
            "Em que ano voce nasceu: 010\n",
            "Maior de idade\n",
            "2010\n",
            "Em que ano voce nasceu: 2015\n",
            "Menor de idade\n",
            "5\n",
            "Em que ano voce nasceu: 2020\n",
            "Menor de idade\n",
            "0\n",
            "Em que ano voce nasceu: 2022\n",
            "Menor de idade\n",
            "-2\n",
            "Em que ano voce nasceu: 1988\n",
            "Maior de idade\n",
            "32\n",
            "2 maiores de idade\n",
            "5 menores de idade\n"
          ],
          "name": "stdout"
        }
      ]
    },
    {
      "cell_type": "code",
      "metadata": {
        "id": "RRi9c4mb6RYw",
        "colab_type": "code",
        "colab": {
          "base_uri": "https://localhost:8080/",
          "height": 136
        },
        "outputId": "0f2cd4ce-e084-4394-9781-c9f75588381c"
      },
      "source": [
        "# Exercício Python 055: Faça um programa que\n",
        "# leia o peso de cinco pessoas.\n",
        "# No final, mostre qual foi o maior e o menor peso lidos.\n",
        "maior = 0\n",
        "menor = 0\n",
        "for p in range(1, 6):\n",
        "  peso = float(input('Peso da {}ª pessoa: '.format(p)))\n",
        "  if p == 1:\n",
        "    maior = peso\n",
        "    menor = peso\n",
        "  else:\n",
        "    if peso > maior:\n",
        "      maior = peso\n",
        "    if peso < menor:\n",
        "      menor = peso\n",
        "print (f'O maior peso registrado foi {maior} Kgs')\n",
        "print (f'O menor peso registrado foi {menor} Kgs')\n",
        "\n",
        "\n"
      ],
      "execution_count": null,
      "outputs": [
        {
          "output_type": "stream",
          "text": [
            "Peso da 1ª pessoa: 10\n",
            "Peso da 2ª pessoa: 20\n",
            "Peso da 3ª pessoa: 30\n",
            "Peso da 4ª pessoa: 40\n",
            "Peso da 5ª pessoa: 50\n",
            "O maior peso registrado foi 50.0 Kgs\n",
            "O menor peso registrado foi 10.0 Kgs\n"
          ],
          "name": "stdout"
        }
      ]
    },
    {
      "cell_type": "code",
      "metadata": {
        "id": "4K87UQ4A_oML",
        "colab_type": "code",
        "colab": {
          "base_uri": "https://localhost:8080/",
          "height": 340
        },
        "outputId": "eb73f483-d883-4210-d9c4-e37472d8c07d"
      },
      "source": [
        "# Exercício Python 056: Desenvolva um programa que\n",
        "# leia o nome, idade e sexo de 4 pessoas.\n",
        "# No final do programa, mostre:\n",
        "# a média de idade do grupo,\n",
        "# qual é o nome do homem mais velho\n",
        "# e quantas mulheres têm menos de 20 anos.\n",
        "\n",
        "somaidade = 0 # \n",
        "mediaidade = 0 # registrar a média\n",
        "maioridadehomem = 0\n",
        "mulheres = 0\n",
        "nomevelho = ''\n",
        "\n",
        "for p in range(1, 5):\n",
        "    print (f'_____{p}ª Pessoa_____')\n",
        "    nome = str(input('Nome: '.format(p))).strip().upper()\n",
        "    idade = int(input('Idade: '))\n",
        "    sexo = str(input('Sexo: [M/F]: ')).strip()\n",
        "    somaidade += idade\n",
        "    if p == 1 and sexo in 'Mm':\n",
        "        nomevelho = nome\n",
        "        maioridadehomem = idade\n",
        "\n",
        "    if sexo in 'Mm' and idade > maioridadehomem :\n",
        "        nomevelho = nome\n",
        "        maioridadehomem = idade\n",
        "\n",
        "    if sexo in 'Ff' and idade < 20:\n",
        "        mulheres += 1    \n",
        "        \n",
        "mediaidade = somaidade / 4\n",
        "\n",
        "print (f'A média de idade do grupo é: {mediaidade} anos')\n",
        "print (f'O nome do homem mais velho é {nomevelho}')\n",
        "print (f'Há um total de {mulheres} mulheres com menos de 20 anos')\n"
      ],
      "execution_count": null,
      "outputs": [
        {
          "output_type": "stream",
          "text": [
            "_____1ª Pessoa_____\n",
            "Nome: renan\n",
            "Idade: 43\n",
            "Sexo: [M/F]: m\n",
            "_____2ª Pessoa_____\n",
            "Nome: roberta\n",
            "Idade: 37\n",
            "Sexo: [M/F]: f\n",
            "_____3ª Pessoa_____\n",
            "Nome: sofia\n",
            "Idade: 9\n",
            "Sexo: [M/F]: f\n",
            "_____4ª Pessoa_____\n",
            "Nome: alice\n",
            "Idade: 5\n",
            "Sexo: [M/F]: f\n",
            "A média de idade do grupo é: 23.5 anos\n",
            "O nome do homem mais velho é RENAN\n",
            "Há um total de 2 mulheres com menos de 20 anos\n"
          ],
          "name": "stdout"
        }
      ]
    },
    {
      "cell_type": "code",
      "metadata": {
        "id": "FJ4DjIPISyQy",
        "colab_type": "code",
        "colab": {}
      },
      "source": [
        "# Exercício Python 057: Faça um programa que\n",
        "# leia o sexo de uma pessoa, mas só aceite os valores 'M' ou 'F'.\n",
        "# Caso esteja errado, peça a digitação novamente até ter um valor correto.\n",
        "\n",
        "sexo = input('Digite seu sexo').upper().strip()[0]\n",
        "while sexo not in 'MF':\n",
        "    sexo = input('Dados inválidos. Digite novamente: ').strip().upper()[0]\n",
        "print ('Dados registrados com sucesso!')\n",
        "\n",
        "\n"
      ],
      "execution_count": null,
      "outputs": []
    },
    {
      "cell_type": "code",
      "metadata": {
        "id": "5cA1ElgpgMiP",
        "colab_type": "code",
        "colab": {
          "base_uri": "https://localhost:8080/",
          "height": 187
        },
        "outputId": "d8c367a0-8df5-4e9e-a7ff-15b66225b442"
      },
      "source": [
        "# Exercício Python 058: Melhore o jogo do DESAFIO 028 \n",
        "# onde o computador vai \"pensar\" em um número entre 0 e 10.\n",
        "# Só que agora o jogador vai tentar adivinhar até acertar,\n",
        "# mostrando no final quantos palpites foram necessários para vencer.\n",
        "\n",
        "# importar\n",
        "from random import randint\n",
        "\n",
        "n = randint(1, 10) # randint conta todos os números\n",
        "acertou = False # interessante\n",
        "vezes = 0\n",
        "print ('Sou seu computador, ababei de pensar em um número entre 1 e 10')\n",
        "print ('Consegue adivinhar?')\n",
        "\n",
        "\n",
        "while not acertou: = # True ou False\n",
        "    numero = int(input('Digite seu palpite entre [1 e 10]: ')) # input de variável dentro do while\n",
        "    vezes += 1\n",
        "    if numero == n:\n",
        "        acertou = True\n",
        "\n",
        "    if numero < n:\n",
        "        print ('Mais... Tente novamente: ')\n",
        "    \n",
        "    if numero > n:\n",
        "        print ('Menos... Tente novamente: ')\n",
        "    \n",
        "print ('Parabéns! Você acertou')\n",
        "print (f'Precisou de {vezes} tentativas')\n",
        "print ('FIM')    "
      ],
      "execution_count": null,
      "outputs": [
        {
          "output_type": "stream",
          "text": [
            "Sou seu computador, ababei de pensar em um número entre 1 e 10\n",
            "Consegue adivinhar?\n",
            "Digite seu palpite entre [1 e 10]: 5\n",
            "Menos... Tente novamente: \n",
            "Digite seu palpite entre [1 e 10]: 3\n",
            "Menos... Tente novamente: \n",
            "Digite seu palpite entre [1 e 10]: 2\n",
            "Parabéns! Você acertou\n",
            "Precisou de 3 tentativas\n",
            "FIM\n"
          ],
          "name": "stdout"
        }
      ]
    },
    {
      "cell_type": "code",
      "metadata": {
        "id": "7ze6AK9ptIHB",
        "colab_type": "code",
        "colab": {}
      },
      "source": [
        "# Exercício Python 059: Crie um programa\n",
        "# que leia dois valores\n",
        "# e mostre um menu na tela:\n",
        "# [1] somar\n",
        "# [2] subtrair etc\n",
        "decisao = 2\n",
        "while decisao == 2:\n",
        "    decisao = 1\n",
        "\n",
        "    n1 = float(input('Digite o primeiro número: '))\n",
        "    n2 = float(input('Digite o segundo número: '))\n",
        "    print ('Escolha uma das opções:')\n",
        "\n",
        "    while decisao == 1:\n",
        "        operacao = int(input('''\n",
        "        [1] - SOMAR\n",
        "        [2] - SUBTRAIR\n",
        "        [3] - MULTIPLICAR\n",
        "        [4] - DIVIDIR\n",
        "        Opção: '''))\n",
        "        if operacao == 1:\n",
        "            print (f'A soma entre {n1} e {n2} é: {n1 + n2} ')\n",
        "        if operacao == 2:\n",
        "            n3 = n1 - n2\n",
        "            if n2 > n1:\n",
        "                n3 = n2 - n1\n",
        "            print (f'A subtração enytre {n1} e {n2} é: {n3}')\n",
        "        if operacao == 3:\n",
        "            print (f'A multiplicação entre {n1} e {n2} é: {n1* n2}')\n",
        "        if operacao == 4:\n",
        "            n3 = n1 / n2\n",
        "            print (f'A divisão entre{n1} e {n2} é : {n3:.2f}')\n",
        "\n",
        "\n",
        "        decisao = int(input('''\n",
        "            [1] - Nova operação\n",
        "            [2] - Novos números\n",
        "            [3] - Sair'''))\n",
        "        \n",
        "#if decisao == 3:\n",
        "print ('FIM')"
      ],
      "execution_count": null,
      "outputs": []
    },
    {
      "cell_type": "code",
      "metadata": {
        "id": "1sjApcnGV5-F",
        "colab_type": "code",
        "colab": {}
      },
      "source": [
        "# Exercício Python 059: Crie um programa %%%%%%%  TESTES %%%%%%%\n",
        "# que leia dois valores\n",
        "# e mostre um menu na tela:\n",
        "# [1] somar\n",
        "# [2] subtrair etc\n",
        "\n",
        "decisao = 1\n",
        "\n",
        "n1 = float(input('Digite o primeiro número: '))\n",
        "n2 = float(input('Digite o segundo número: '))\n",
        "print ('Escolha uma das opções:')\n",
        "\n",
        "while decisao == 1:\n",
        "    operacao = int(input('''\n",
        "    [1] - SOMAR\n",
        "    [2] - SUBTRAIR\n",
        "    [3] - MULTIPLICAR\n",
        "    [4] - DIVIDIR\n",
        "    Opção: '''))\n",
        "    if operacao == 1:\n",
        "        print (f'A soma entre {n1} e {n2} é: {n1 + n2} ')\n",
        "    if operacao == 2:\n",
        "        n3 = n1 - n2\n",
        "        if n2 > n1:\n",
        "           n3 = n2 - n1\n",
        "        print (f'A subtração enytre {n1} e {n2} é: {n3}')\n",
        "    if operacao == 3:\n",
        "        print (f'A multiplicação entre {n1} e {n2} é: {n1* n2}')\n",
        "    if operacao == 4:\n",
        "        n3 = n1 / n2\n",
        "        print (f'A divisão entre{n1} e {n2} é : {n3:.2f}')\n",
        "\n",
        "\n",
        "    decisao = int(input('''\n",
        "    [1] - Nova operação\n",
        "    [2] - Novos números\n",
        "    [3] - Sair'''))\n",
        "            \n",
        "    if decisao == 3:\n",
        "        print ('FIM')"
      ],
      "execution_count": null,
      "outputs": []
    },
    {
      "cell_type": "code",
      "metadata": {
        "id": "HNrD6VTDgyVs",
        "colab_type": "code",
        "colab": {}
      },
      "source": [
        "n1 = int(input(' Valor 1'))\n",
        "n2 = int(input('Valor 2'))\n",
        "opcao = 0\n",
        "while opcao != 5:\n",
        "    print('''               \n",
        "    [1] - somar\n",
        "    [2] - multiplicar\n",
        "    [3] - maior\n",
        "    [4] novos números\n",
        "    [5] - sair''')\n",
        "\n",
        "    opcao = int(input('Opção'))\n",
        "\n",
        "\n",
        "    if opcao == 1:\n",
        "        print (f'A soma é {n1 + n2} ')\n",
        "    elif opcao == 2:\n",
        "        print (f'O produto é {n1 * n2}')\n",
        "    elif opcao == 3:\n",
        "        if n1 > n2:\n",
        "            print (f'O maior é {n1}')\n",
        "        else:\n",
        "            print (f'O maior é {n2}')\n",
        "    elif opcao == 4:\n",
        "        n1 = int(input('Valor 1'))\n",
        "        n2 = int(input('Valor 2'))\n",
        "    elif opcao == 5:\n",
        "        print ('Finalizando')\n",
        "    else:\n",
        "        print (' Inválida')\n",
        "print ('FIM')            "
      ],
      "execution_count": null,
      "outputs": []
    },
    {
      "cell_type": "code",
      "metadata": {
        "id": "mg_lnqdjzCrI",
        "colab_type": "code",
        "colab": {}
      },
      "source": [
        "#@title Texto de título padrão\n",
        "Nome = \"\" #@param {type:\"string\"}\n",
        "Sobrenome = 'renan' #@param {type:'string'}\n",
        "Nascimento = \"1977-03-26\" #@param {type:\"date\"}\n",
        "Endereço = 'Rua, Av, etc' #@param {type:'string'}\n",
        "Complemento = '' #@param {type:'string'}\n",
        "Bairro = '' #@param {type:'string'}\n",
        "Cidade = '' #@param {type:'string'}\n",
        "Estado = '' #@param {type:'string'}\n",
        "Telefone = '' #@param {type:\"string\"}\n",
        "#e-mail = '' #@param {type:'string'}\n",
        "\n",
        "\n",
        "\n",
        "\n",
        "\n"
      ],
      "execution_count": null,
      "outputs": []
    },
    {
      "cell_type": "code",
      "metadata": {
        "id": "7XYBfl_xAo0P",
        "colab_type": "code",
        "colab": {
          "base_uri": "https://localhost:8080/",
          "height": 68
        },
        "outputId": "c94c6edf-1aa0-4a34-903f-b84f444d1a15"
      },
      "source": [
        "# Crie um programa que:\n",
        "# Leia um número e calcule seu fatorial\n",
        "\n",
        "from math import factorial\n",
        "print ('\\33[1;31m')\n",
        "total = 0\n",
        "numero = int(input('Digite um número para calcular seu fatorial'))\n",
        "while (numero > 0):\n",
        "    if total != 0:\n",
        "        fatorial = total * (numero - 1)\n",
        "        final = total + fatorial   \n",
        "    else:\n",
        "        fatorial = numero * (numero -1)\n",
        "        total = total + fatorial\n",
        "\n",
        "    if numero == 1:\n",
        "        print (f'{numero} = {final}')\n",
        "    else:\n",
        "        print (f'{numero} X ', end='')\n",
        "    \n",
        "#    print (f'{numero} X ', end='')\n",
        "    numero -= 1 \n",
        "\n",
        "\n",
        "\n"
      ],
      "execution_count": null,
      "outputs": [
        {
          "output_type": "stream",
          "text": [
            "\u001b[1;31m\n",
            "Digite um número para calcular seu fatorial5\n",
            "5 X 4 X 3 X 2 X 1 = 20\n"
          ],
          "name": "stdout"
        }
      ]
    },
    {
      "cell_type": "code",
      "metadata": {
        "id": "upV-zISrwlFT",
        "colab_type": "code",
        "colab": {
          "base_uri": "https://localhost:8080/",
          "height": 51
        },
        "outputId": "f9cdaa6e-8a04-46aa-9681-57bb84ff80a9"
      },
      "source": [
        "# Exercício 060 - fatorial\n",
        "n = int(input('Digite um número ára calcular se fatorial: '))\n",
        "c = n\n",
        "f = 1\n",
        "while (c > 0):\n",
        "    print (f'{c}', end='')\n",
        "    print (' X ' if c > 1 else ' =', end='')\n",
        "    f *= c\n",
        "    c -= 1\n",
        "print (f' {f}', end='')"
      ],
      "execution_count": null,
      "outputs": [
        {
          "output_type": "stream",
          "text": [
            "Digite um número ára calcular se fatorial: 5\n",
            "5 X 4 X 3 X 2 X 1 = 120"
          ],
          "name": "stdout"
        }
      ]
    },
    {
      "cell_type": "code",
      "metadata": {
        "id": "1mUCqedr0yQn",
        "colab_type": "code",
        "colab": {
          "base_uri": "https://localhost:8080/",
          "height": 68
        },
        "outputId": "a821bbc2-98a9-4f7f-90ad-31e152b34e42"
      },
      "source": [
        "# Exercício Python 061:\n",
        "# Refaça o DESAFIO 051,\n",
        "# lendo o primeiro termo e a razão de uma PA,\n",
        "# mostrando os 10 primeiros termos da progressão\n",
        "# usando a estrutura while.\n",
        "\n",
        "primeiro = int(input('Primeiro termo: '))\n",
        "razao = int(input('Razão: '))\n",
        "termo = primeiro    \n",
        "cont = 1\n",
        "while cont <= 10:\n",
        "    print (f'{termo} => ', end='')\n",
        "    \n",
        "    termo += razao\n",
        "    cont += 1\n",
        "print ('FIM')\n"
      ],
      "execution_count": null,
      "outputs": [
        {
          "output_type": "stream",
          "text": [
            "Primeiro termo: 0\n",
            "Razão: 2\n",
            "0 => 2 => 4 => 6 => 8 => 10 => 12 => 14 => 16 => 18 => FIM\n"
          ],
          "name": "stdout"
        }
      ]
    },
    {
      "cell_type": "code",
      "metadata": {
        "id": "lFJdUQJv95-S",
        "colab_type": "code",
        "colab": {}
      },
      "source": [
        "# Exercício Python 062: Melhore o DESAFIO 061,\n",
        "# perguntando para o usuário se ele quer\n",
        "# mostrar mais alguns termos.\n",
        "# O programa encerrará quando\n",
        "# ele disser que quer mostrar 0 termos.\n",
        "\n",
        "#menu = 1\n",
        "\n",
        "\n",
        "primeiro = int(input('Digite o primeiro termo: ')) # EX: 2\n",
        "razao = int(input('Razão: ')) # EX: 2\n",
        "termo = primeiro # termo = 2\n",
        "    \n",
        "cont = 1\n",
        "total = 0\n",
        "mais = 10\n",
        "while mais != 0: \n",
        "    total += mais\n",
        "    while cont <= total: # cont = 1 até cont = 10 / cont = 2\n",
        "        print (f'{termo} =>', end='') # imprime termo = 2 / 4\n",
        "        termo += razao # termo = 2 + 2 / 4 + 2\n",
        "        cont += 1 # cont passa a 2 / 3\n",
        "    print ('PAUSA', end='')\n",
        "    mais = int(input('Quantos termos voce que mostrar a mais: '))\n",
        "print (f'Finalizado com {total} termos')\n"
      ],
      "execution_count": null,
      "outputs": []
    },
    {
      "cell_type": "code",
      "metadata": {
        "id": "hFcespNpXZgs",
        "colab_type": "code",
        "colab": {}
      },
      "source": [
        "primeiro = int(input('Primeiro número: '))\n",
        "razao = int(input('Razão'))\n",
        "cont = 1\n",
        "termo = primeiro\n",
        "total = 0\n",
        "mais = 10\n",
        "while mais != 0:\n",
        "    total += mais\n",
        "    while cont <= total:\n",
        "        print (f'{termo} =>', end='')\n",
        "        termo += razao\n",
        "        cont +=1\n",
        "    print ('PAUSA')\n",
        "    mais = int(input('Quantos números'))\n",
        "print (f'Finalizado com {total} de termos')\n"
      ],
      "execution_count": null,
      "outputs": []
    },
    {
      "cell_type": "code",
      "metadata": {
        "id": "tWntVk86fGjW",
        "colab_type": "code",
        "colab": {
          "base_uri": "https://localhost:8080/",
          "height": 102
        },
        "outputId": "de26100b-44c7-45b0-b9a7-cf40fd06daa7"
      },
      "source": [
        "# Exercício Python 064:\n",
        "# Crie um programa que leia vários números inteiros pelo teclado.\n",
        "# O programa só vai parar quando o usuário digitar o valor 999,\n",
        "# que é a condição de parada.\n",
        "# No final, mostre quantos números foram digitados\n",
        "# e qual foi a soma entre eles (desconsiderando o flag).\n",
        "n = soma = cont = 0\n",
        "n = int(input('Digite um número'))\n",
        "while n != 999:\n",
        "    soma += n\n",
        "    cont += 1\n",
        "    n = int(input('Digite um número: '))\n",
        "    \n",
        "print (f'Voce digitou {cont} e a soma de todos é: {soma}')    \n"
      ],
      "execution_count": null,
      "outputs": [
        {
          "output_type": "stream",
          "text": [
            "Digite um número2\n",
            "Digite um número: 3\n",
            "Digite um número: 5\n",
            "Digite um número: 999\n",
            "Voce digitou 3 e a soma de todos é: 10\n"
          ],
          "name": "stdout"
        }
      ]
    },
    {
      "cell_type": "code",
      "metadata": {
        "id": "DqtIIhoemHgT",
        "colab_type": "code",
        "colab": {
          "base_uri": "https://localhost:8080/",
          "height": 204
        },
        "outputId": "f93ebedf-40e1-46b2-a724-bd72805217a1"
      },
      "source": [
        "# Exercício Python 065:\n",
        "# Crie um programa que leia vários números inteiros pelo teclado.\n",
        "# No final da execução, \n",
        "# mostre a média entre todos os valores e\n",
        "# qual foi o maior e o menor valores lidos.\n",
        "# O programa deve perguntar ao usuário se\n",
        "# ele quer ou não continuar a digitar valores.\n",
        "maior = menor = media = total = loop = 0\n",
        "cont = 'S'\n",
        "while cont == 'S':\n",
        "    n = int(input('Digite um número: '))\n",
        "    total += n\n",
        "    loop += 1\n",
        "    if loop == 1:\n",
        "        maior = menor = n\n",
        "    else:\n",
        "        if  n > maior:\n",
        "            maior = n    \n",
        "        else:\n",
        "            menor = n\n",
        "    cont = str(input('Quer continuar? [S/N] ')).strip().upper()[0]\n",
        "print (f'Voce digitou {loop} números')\n",
        "print (f'A média entre eles é {total / loop}')\n",
        "print (f'O maior é {maior} e o menor é {menor}')\n",
        "\n"
      ],
      "execution_count": null,
      "outputs": [
        {
          "output_type": "stream",
          "text": [
            "Digite um número: 2\n",
            "Quer continuar? [S/N] s\n",
            "Digite um número: 3\n",
            "Quer continuar? [S/N] s\n",
            "Digite um número: 4\n",
            "Quer continuar? [S/N] s\n",
            "Digite um número: 5\n",
            "Quer continuar? [S/N] n\n",
            "Voce digitou 4 números\n",
            "A média entre eles é 3.5\n",
            "O maior é 5 e o menor é 2\n"
          ],
          "name": "stdout"
        }
      ]
    },
    {
      "cell_type": "code",
      "metadata": {
        "id": "FJxtDVuaw3Ql",
        "colab_type": "code",
        "colab": {
          "base_uri": "https://localhost:8080/",
          "height": 51
        },
        "outputId": "b96e58fc-1976-449e-f0b5-b03ff04b17b8"
      },
      "source": [
        "# Exercício Python 063:\n",
        "# Escreva um programa que\n",
        "# leia um número N inteiro qualquer\n",
        "# e mostre na tela os N primeiros elementos\n",
        "# de uma Sequência de Fibonacci. \n",
        "cont = 1\n",
        "seq = 0\n",
        "fibo = 0\n",
        "\n",
        "n = int(input('Quantos termos voce quer mostrar'))\n",
        "\n",
        "while cont < n :\n",
        "    \n",
        "    if cont == 1 :\n",
        "        fibo = (n - 1) + (n - 2)\n",
        "        print (f' {n} => {fibo} =>', end='')\n",
        "    \n",
        "    elif cont == n:\n",
        "        print (f'{seq}')\n",
        "    else:    \n",
        "        seq = (fibo - 1) + (fibo -2)\n",
        "        print (f'{seq} =>', end='')\n",
        "        fibo = seq\n",
        "    cont += 1    \n",
        "print ('FIM')\n"
      ],
      "execution_count": null,
      "outputs": [
        {
          "output_type": "stream",
          "text": [
            "Digite um número para exibir sua sequencia fibonacci5\n",
            " 5 => 7 =>11 =>19 =>35 =>FIM\n"
          ],
          "name": "stdout"
        }
      ]
    },
    {
      "cell_type": "code",
      "metadata": {
        "id": "jAINCq_obngw",
        "colab_type": "code",
        "colab": {
          "base_uri": "https://localhost:8080/",
          "height": 580
        },
        "outputId": "987d067f-6acc-4db3-82e7-6a9ea96cdbd3"
      },
      "source": [
        "# Exercício Python 063:\n",
        "# Escreva um programa que\n",
        "# leia um número N inteiro qualquer\n",
        "# e mostre na tela os N primeiros elementos\n",
        "# de uma Sequência de Fibonacci. \n",
        "\n",
        "# Título\n",
        "print ('\\33[31m%\\33[0m\\33[1;32m' * 31)\n",
        "titulo = 'Gerador de Fibonacci'\n",
        "#print (titulo.center(30, ' '))\n",
        "print (f'{titulo:^31}') # centralizar , {titulo:->} ALINHAR A DIREITA\n",
        "print ('\\33[31m%\\33[0m' *31)\n",
        "\n",
        "# Variáveis\n",
        "t1 = 0\n",
        "t2 = 1\n",
        "n = int(input('Quantos números voce quer exibir? '))\n",
        "\n",
        "print (f'{t1} => {t2} =>', end='')\n",
        "\n",
        "# LOOP\n",
        "c = 3\n",
        "while c <= n:\n",
        "    t3 = t1 + t2\n",
        "    print (f'{t3} => ', end='')\n",
        "    t1 = t2\n",
        "    t2 = t3\n",
        "    c += 1\n",
        "print ('FIM')    \n"
      ],
      "execution_count": null,
      "outputs": [
        {
          "output_type": "stream",
          "text": [
            "\u001b[31m%\u001b[0m\u001b[1;32m\u001b[31m%\u001b[0m\u001b[1;32m\u001b[31m%\u001b[0m\u001b[1;32m\u001b[31m%\u001b[0m\u001b[1;32m\u001b[31m%\u001b[0m\u001b[1;32m\u001b[31m%\u001b[0m\u001b[1;32m\u001b[31m%\u001b[0m\u001b[1;32m\u001b[31m%\u001b[0m\u001b[1;32m\u001b[31m%\u001b[0m\u001b[1;32m\u001b[31m%\u001b[0m\u001b[1;32m\u001b[31m%\u001b[0m\u001b[1;32m\u001b[31m%\u001b[0m\u001b[1;32m\u001b[31m%\u001b[0m\u001b[1;32m\u001b[31m%\u001b[0m\u001b[1;32m\u001b[31m%\u001b[0m\u001b[1;32m\u001b[31m%\u001b[0m\u001b[1;32m\u001b[31m%\u001b[0m\u001b[1;32m\u001b[31m%\u001b[0m\u001b[1;32m\u001b[31m%\u001b[0m\u001b[1;32m\u001b[31m%\u001b[0m\u001b[1;32m\u001b[31m%\u001b[0m\u001b[1;32m\u001b[31m%\u001b[0m\u001b[1;32m\u001b[31m%\u001b[0m\u001b[1;32m\u001b[31m%\u001b[0m\u001b[1;32m\u001b[31m%\u001b[0m\u001b[1;32m\u001b[31m%\u001b[0m\u001b[1;32m\u001b[31m%\u001b[0m\u001b[1;32m\u001b[31m%\u001b[0m\u001b[1;32m\u001b[31m%\u001b[0m\u001b[1;32m\u001b[31m%\u001b[0m\u001b[1;32m\u001b[31m%\u001b[0m\u001b[1;32m\n",
            "     Gerador de Fibonacci      \n",
            "\u001b[31m%\u001b[0m\u001b[31m%\u001b[0m\u001b[31m%\u001b[0m\u001b[31m%\u001b[0m\u001b[31m%\u001b[0m\u001b[31m%\u001b[0m\u001b[31m%\u001b[0m\u001b[31m%\u001b[0m\u001b[31m%\u001b[0m\u001b[31m%\u001b[0m\u001b[31m%\u001b[0m\u001b[31m%\u001b[0m\u001b[31m%\u001b[0m\u001b[31m%\u001b[0m\u001b[31m%\u001b[0m\u001b[31m%\u001b[0m\u001b[31m%\u001b[0m\u001b[31m%\u001b[0m\u001b[31m%\u001b[0m\u001b[31m%\u001b[0m\u001b[31m%\u001b[0m\u001b[31m%\u001b[0m\u001b[31m%\u001b[0m\u001b[31m%\u001b[0m\u001b[31m%\u001b[0m\u001b[31m%\u001b[0m\u001b[31m%\u001b[0m\u001b[31m%\u001b[0m\u001b[31m%\u001b[0m\u001b[31m%\u001b[0m\u001b[31m%\u001b[0m\n"
          ],
          "name": "stdout"
        },
        {
          "output_type": "error",
          "ename": "KeyboardInterrupt",
          "evalue": "ignored",
          "traceback": [
            "\u001b[0;31m---------------------------------------------------------------------------\u001b[0m",
            "\u001b[0;31mKeyboardInterrupt\u001b[0m                         Traceback (most recent call last)",
            "\u001b[0;32m/usr/local/lib/python3.6/dist-packages/ipykernel/kernelbase.py\u001b[0m in \u001b[0;36m_input_request\u001b[0;34m(self, prompt, ident, parent, password)\u001b[0m\n\u001b[1;32m    728\u001b[0m             \u001b[0;32mtry\u001b[0m\u001b[0;34m:\u001b[0m\u001b[0;34m\u001b[0m\u001b[0;34m\u001b[0m\u001b[0m\n\u001b[0;32m--> 729\u001b[0;31m                 \u001b[0mident\u001b[0m\u001b[0;34m,\u001b[0m \u001b[0mreply\u001b[0m \u001b[0;34m=\u001b[0m \u001b[0mself\u001b[0m\u001b[0;34m.\u001b[0m\u001b[0msession\u001b[0m\u001b[0;34m.\u001b[0m\u001b[0mrecv\u001b[0m\u001b[0;34m(\u001b[0m\u001b[0mself\u001b[0m\u001b[0;34m.\u001b[0m\u001b[0mstdin_socket\u001b[0m\u001b[0;34m,\u001b[0m \u001b[0;36m0\u001b[0m\u001b[0;34m)\u001b[0m\u001b[0;34m\u001b[0m\u001b[0;34m\u001b[0m\u001b[0m\n\u001b[0m\u001b[1;32m    730\u001b[0m             \u001b[0;32mexcept\u001b[0m \u001b[0mException\u001b[0m\u001b[0;34m:\u001b[0m\u001b[0;34m\u001b[0m\u001b[0;34m\u001b[0m\u001b[0m\n",
            "\u001b[0;32m/usr/local/lib/python3.6/dist-packages/jupyter_client/session.py\u001b[0m in \u001b[0;36mrecv\u001b[0;34m(self, socket, mode, content, copy)\u001b[0m\n\u001b[1;32m    802\u001b[0m         \u001b[0;32mtry\u001b[0m\u001b[0;34m:\u001b[0m\u001b[0;34m\u001b[0m\u001b[0;34m\u001b[0m\u001b[0m\n\u001b[0;32m--> 803\u001b[0;31m             \u001b[0mmsg_list\u001b[0m \u001b[0;34m=\u001b[0m \u001b[0msocket\u001b[0m\u001b[0;34m.\u001b[0m\u001b[0mrecv_multipart\u001b[0m\u001b[0;34m(\u001b[0m\u001b[0mmode\u001b[0m\u001b[0;34m,\u001b[0m \u001b[0mcopy\u001b[0m\u001b[0;34m=\u001b[0m\u001b[0mcopy\u001b[0m\u001b[0;34m)\u001b[0m\u001b[0;34m\u001b[0m\u001b[0;34m\u001b[0m\u001b[0m\n\u001b[0m\u001b[1;32m    804\u001b[0m         \u001b[0;32mexcept\u001b[0m \u001b[0mzmq\u001b[0m\u001b[0;34m.\u001b[0m\u001b[0mZMQError\u001b[0m \u001b[0;32mas\u001b[0m \u001b[0me\u001b[0m\u001b[0;34m:\u001b[0m\u001b[0;34m\u001b[0m\u001b[0;34m\u001b[0m\u001b[0m\n",
            "\u001b[0;32m/usr/local/lib/python3.6/dist-packages/zmq/sugar/socket.py\u001b[0m in \u001b[0;36mrecv_multipart\u001b[0;34m(self, flags, copy, track)\u001b[0m\n\u001b[1;32m    490\u001b[0m         \"\"\"\n\u001b[0;32m--> 491\u001b[0;31m         \u001b[0mparts\u001b[0m \u001b[0;34m=\u001b[0m \u001b[0;34m[\u001b[0m\u001b[0mself\u001b[0m\u001b[0;34m.\u001b[0m\u001b[0mrecv\u001b[0m\u001b[0;34m(\u001b[0m\u001b[0mflags\u001b[0m\u001b[0;34m,\u001b[0m \u001b[0mcopy\u001b[0m\u001b[0;34m=\u001b[0m\u001b[0mcopy\u001b[0m\u001b[0;34m,\u001b[0m \u001b[0mtrack\u001b[0m\u001b[0;34m=\u001b[0m\u001b[0mtrack\u001b[0m\u001b[0;34m)\u001b[0m\u001b[0;34m]\u001b[0m\u001b[0;34m\u001b[0m\u001b[0;34m\u001b[0m\u001b[0m\n\u001b[0m\u001b[1;32m    492\u001b[0m         \u001b[0;31m# have first part already, only loop while more to receive\u001b[0m\u001b[0;34m\u001b[0m\u001b[0;34m\u001b[0m\u001b[0;34m\u001b[0m\u001b[0m\n",
            "\u001b[0;32mzmq/backend/cython/socket.pyx\u001b[0m in \u001b[0;36mzmq.backend.cython.socket.Socket.recv\u001b[0;34m()\u001b[0m\n",
            "\u001b[0;32mzmq/backend/cython/socket.pyx\u001b[0m in \u001b[0;36mzmq.backend.cython.socket.Socket.recv\u001b[0;34m()\u001b[0m\n",
            "\u001b[0;32mzmq/backend/cython/socket.pyx\u001b[0m in \u001b[0;36mzmq.backend.cython.socket._recv_copy\u001b[0;34m()\u001b[0m\n",
            "\u001b[0;32m/usr/local/lib/python3.6/dist-packages/zmq/backend/cython/checkrc.pxd\u001b[0m in \u001b[0;36mzmq.backend.cython.checkrc._check_rc\u001b[0;34m()\u001b[0m\n",
            "\u001b[0;31mKeyboardInterrupt\u001b[0m: ",
            "\nDuring handling of the above exception, another exception occurred:\n",
            "\u001b[0;31mKeyboardInterrupt\u001b[0m                         Traceback (most recent call last)",
            "\u001b[0;32m<ipython-input-2-f47bcc8bdd86>\u001b[0m in \u001b[0;36m<module>\u001b[0;34m()\u001b[0m\n\u001b[1;32m     15\u001b[0m \u001b[0mt1\u001b[0m \u001b[0;34m=\u001b[0m \u001b[0;36m0\u001b[0m\u001b[0;34m\u001b[0m\u001b[0;34m\u001b[0m\u001b[0m\n\u001b[1;32m     16\u001b[0m \u001b[0mt2\u001b[0m \u001b[0;34m=\u001b[0m \u001b[0;36m1\u001b[0m\u001b[0;34m\u001b[0m\u001b[0;34m\u001b[0m\u001b[0m\n\u001b[0;32m---> 17\u001b[0;31m \u001b[0mn\u001b[0m \u001b[0;34m=\u001b[0m \u001b[0mint\u001b[0m\u001b[0;34m(\u001b[0m\u001b[0minput\u001b[0m\u001b[0;34m(\u001b[0m\u001b[0;34m'Quantos números voce quer exibir? '\u001b[0m\u001b[0;34m)\u001b[0m\u001b[0;34m)\u001b[0m\u001b[0;34m\u001b[0m\u001b[0;34m\u001b[0m\u001b[0m\n\u001b[0m\u001b[1;32m     18\u001b[0m \u001b[0;34m\u001b[0m\u001b[0m\n\u001b[1;32m     19\u001b[0m \u001b[0mprint\u001b[0m \u001b[0;34m(\u001b[0m\u001b[0;34mf'{t1} => {t2} =>'\u001b[0m\u001b[0;34m,\u001b[0m \u001b[0mend\u001b[0m\u001b[0;34m=\u001b[0m\u001b[0;34m''\u001b[0m\u001b[0;34m)\u001b[0m\u001b[0;34m\u001b[0m\u001b[0;34m\u001b[0m\u001b[0m\n",
            "\u001b[0;32m/usr/local/lib/python3.6/dist-packages/ipykernel/kernelbase.py\u001b[0m in \u001b[0;36mraw_input\u001b[0;34m(self, prompt)\u001b[0m\n\u001b[1;32m    702\u001b[0m             \u001b[0mself\u001b[0m\u001b[0;34m.\u001b[0m\u001b[0m_parent_ident\u001b[0m\u001b[0;34m,\u001b[0m\u001b[0;34m\u001b[0m\u001b[0;34m\u001b[0m\u001b[0m\n\u001b[1;32m    703\u001b[0m             \u001b[0mself\u001b[0m\u001b[0;34m.\u001b[0m\u001b[0m_parent_header\u001b[0m\u001b[0;34m,\u001b[0m\u001b[0;34m\u001b[0m\u001b[0;34m\u001b[0m\u001b[0m\n\u001b[0;32m--> 704\u001b[0;31m             \u001b[0mpassword\u001b[0m\u001b[0;34m=\u001b[0m\u001b[0;32mFalse\u001b[0m\u001b[0;34m,\u001b[0m\u001b[0;34m\u001b[0m\u001b[0;34m\u001b[0m\u001b[0m\n\u001b[0m\u001b[1;32m    705\u001b[0m         )\n\u001b[1;32m    706\u001b[0m \u001b[0;34m\u001b[0m\u001b[0m\n",
            "\u001b[0;32m/usr/local/lib/python3.6/dist-packages/ipykernel/kernelbase.py\u001b[0m in \u001b[0;36m_input_request\u001b[0;34m(self, prompt, ident, parent, password)\u001b[0m\n\u001b[1;32m    732\u001b[0m             \u001b[0;32mexcept\u001b[0m \u001b[0mKeyboardInterrupt\u001b[0m\u001b[0;34m:\u001b[0m\u001b[0;34m\u001b[0m\u001b[0;34m\u001b[0m\u001b[0m\n\u001b[1;32m    733\u001b[0m                 \u001b[0;31m# re-raise KeyboardInterrupt, to truncate traceback\u001b[0m\u001b[0;34m\u001b[0m\u001b[0;34m\u001b[0m\u001b[0;34m\u001b[0m\u001b[0m\n\u001b[0;32m--> 734\u001b[0;31m                 \u001b[0;32mraise\u001b[0m \u001b[0mKeyboardInterrupt\u001b[0m\u001b[0;34m\u001b[0m\u001b[0;34m\u001b[0m\u001b[0m\n\u001b[0m\u001b[1;32m    735\u001b[0m             \u001b[0;32melse\u001b[0m\u001b[0;34m:\u001b[0m\u001b[0;34m\u001b[0m\u001b[0;34m\u001b[0m\u001b[0m\n\u001b[1;32m    736\u001b[0m                 \u001b[0;32mbreak\u001b[0m\u001b[0;34m\u001b[0m\u001b[0;34m\u001b[0m\u001b[0m\n",
            "\u001b[0;31mKeyboardInterrupt\u001b[0m: "
          ]
        }
      ]
    },
    {
      "cell_type": "code",
      "metadata": {
        "id": "cawQTX9-ACPb",
        "colab_type": "code",
        "colab": {
          "base_uri": "https://localhost:8080/",
          "height": 68
        },
        "outputId": "e68da61b-4607-4cbd-bd0b-c3a6b2860860"
      },
      "source": [
        "print (' Gerador de Fibonacci')\n",
        "\n",
        "t1 = 0\n",
        "t2 = 1\n",
        "\n",
        "n = int(input('Quantos números você quer exibir? '))\n",
        "\n",
        "print (f'{t1} => {t2} => ', end='')\n",
        "\n",
        "cont = 3\n",
        "while cont <= n:\n",
        "    t3 = t1 + t2\n",
        "    print (f'{t3} =>', end='')\n",
        "    t1 = t2\n",
        "    t2 = t3\n",
        "    cont += 1\n",
        "print ('FIM!')\n",
        "\n",
        "\n"
      ],
      "execution_count": null,
      "outputs": [
        {
          "output_type": "stream",
          "text": [
            " Gerador de Fibonacci\n",
            "Quantos números você quer exibir? 10\n",
            "0 => 1 => 1 =>2 =>3 =>5 =>8 =>13 =>21 =>34 =>FIM!\n"
          ],
          "name": "stdout"
        }
      ]
    },
    {
      "cell_type": "code",
      "metadata": {
        "id": "t2YAu81kij7d",
        "colab_type": "code",
        "colab": {
          "base_uri": "https://localhost:8080/",
          "height": 119
        },
        "outputId": "309f565f-722a-4646-8eaa-af27cae3ca57"
      },
      "source": [
        "# Exercício Python 066:\n",
        "# Crie um programa que leia números inteiros pelo teclado.\n",
        "# O programa só vai parar quando o usuário digitar o valor 999,\n",
        "# que é a condição de parada.\n",
        "# No final, mostre \n",
        "#quantos números foram digitados e \n",
        "# qual foi a soma entre elas (desconsiderando o flag).\n",
        "soma = cont = 0\n",
        "# LOOP infinito\n",
        "while True:\n",
        "    n = int(input('Digite um número: '))\n",
        "    if n == 999:\n",
        "        break\n",
        "    soma += n\n",
        "    cont += 1\n",
        "    \n",
        "        \n",
        "print (f'Foram digitados {cont} números, e a soma entre eles é: {soma}')\n",
        "\n"
      ],
      "execution_count": null,
      "outputs": [
        {
          "output_type": "stream",
          "text": [
            "Digite um número1\n",
            "Digite um número2\n",
            "Digite um número3\n",
            "Digite um número4\n",
            "Digite um número999\n",
            "Foram digitados 4 números, e a soma entre eles é: 10\n"
          ],
          "name": "stdout"
        }
      ]
    },
    {
      "cell_type": "code",
      "metadata": {
        "id": "yzUqiVwWywKg",
        "colab_type": "code",
        "colab": {}
      },
      "source": [
        "# Exercício Python 067:\n",
        "# Faça um programa que mostre a tabuada de vários números,\n",
        "# um de cada vez, para cada valor digitado pelo usuário.\n",
        "# O programa será interrompido quando o número solicitado for negativo. \n",
        "\n",
        "while True:\n",
        "    n = int(input('Digite um número para ver sua tabuada: '))\n",
        "    if n < 0:\n",
        "        break\n",
        "    for tab in range(1, 11):\n",
        "        print (f'{n} X {tab} = {n * tab}')\n",
        "\n",
        "print ('Acabou')\n"
      ],
      "execution_count": null,
      "outputs": []
    },
    {
      "cell_type": "code",
      "metadata": {
        "id": "I-Z4YZYo1qsj",
        "colab_type": "code",
        "colab": {
          "base_uri": "https://localhost:8080/",
          "height": 136
        },
        "outputId": "8fa9dbf3-8011-4006-f5ba-4097e92505e5"
      },
      "source": [
        "# Exercício Python 068:\n",
        "# Faça um programa que\n",
        "# jogue par ou ímpar com o computador.\n",
        "# O jogo só será interrompido quando o jogador perder,\n",
        "# mostrando o total de vitórias consecutivas que ele conquistou\n",
        "# no final do jogo. \n",
        "\n",
        "from random import randint\n",
        "jog = comp = total = 0\n",
        "r = ''\n",
        "vitoria = True\n",
        "\n",
        "while True:\n",
        "    if vitoria == False:\n",
        "        break\n",
        "    \n",
        "    jog = int(input('Escolha um número entre 0 e 10'))\n",
        "    \n",
        "    n = str(input('Par ou Ímpar? [P/I] ')).strip().upper()[0]\n",
        "    comp = randint(0, 10) # randint le todos os numeros\n",
        "    sorte = comp + jog\n",
        "    if sorte == 0:\n",
        "        print ('Os dois escolheram 0')\n",
        "        print ('Empatou')\n",
        "        \n",
        "    if n == 'P' and sorte != 0 and sorte % 2 == 0:\n",
        "        print ('Voce Venceu')\n",
        "        print (f'O computador escolheu: {comp}')\n",
        "        print (f'Voce escolheu {jog}')\n",
        "        print (f'{sorte} é PAR')\n",
        "        total += 1\n",
        "    elif n == 'I' and sorte % 2 == 1:\n",
        "        print ('Voce Venceu!')\n",
        "        print (f'O computador escolheu: {comp}')\n",
        "        print (f'Voce escolheu {jog}')\n",
        "        print (f'{sorte} é ÍMPAR')\n",
        "        total += 1\n",
        "        \n",
        "    else:      \n",
        "        if sorte % 2 == 0:\n",
        "            r = 'PAR'\n",
        "        else:\n",
        "            r = 'ÍMPAR'\n",
        "                \n",
        "            print ('Voce perdeu')\n",
        "            print (f'O computador jogou {comp}')\n",
        "            print (f'Voce jogou {jog}')\n",
        "            print (f'{sorte} é: {r}')\n",
        "            vitoria = False\n",
        "print (f'O total de vitórias foi {total}')\n",
        "            #vitoria = False"
      ],
      "execution_count": null,
      "outputs": [
        {
          "output_type": "stream",
          "text": [
            "Escolha um número entre 0 e 1011\n",
            "Par ou Ímpar? [P/I] p\n",
            "Voce perdeu\n",
            "O computador jogou 4\n",
            "Voce jogou 11\n",
            "15 é: ÍMPAR\n",
            "O total de vitórias foi 0\n"
          ],
          "name": "stdout"
        }
      ]
    },
    {
      "cell_type": "code",
      "metadata": {
        "id": "XO2dyOCPaBWe",
        "colab_type": "code",
        "colab": {
          "base_uri": "https://localhost:8080/",
          "height": 119
        },
        "outputId": "7b923304-1782-45dc-8e85-9139a1112c32"
      },
      "source": [
        "# Exercício Python 16:\n",
        "# Crie um programa que leia um número Real qualquer pelo teclado\n",
        "# e mostre na tela a sua porção Inteira.\n",
        "\n",
        "from math import trunc\n",
        "n = float(input('Digite um número Real: '))\n",
        "r = n // 1\n",
        "print (r, end='')\n",
        "print (' \" usando r = n // 1 \" ')\n",
        "print ('ou')\n",
        "# Outro método: importando trunc\n",
        "print (f'O valor digitado foi {n}, e sua porção inteira é {trunc(n)}   - Usando \" trunc\" ')\n",
        "print ('ou')\n",
        "print (f'O valor digitado foi {n}, e sua porção inteira é: {int(n)}   -  Usando \"  int(n) ')\n",
        "\n",
        "\n",
        "\n"
      ],
      "execution_count": null,
      "outputs": [
        {
          "output_type": "stream",
          "text": [
            "Digite um número Real: 3.1415\n",
            "3.0 \" usando r = n // 1 \" \n",
            "ou\n",
            "O valor digitado foi 3.1415, e sua porção inteira é 3   - Usando \" trunc\" \n",
            "ou\n",
            "O valor digitado foi 3.1415, e sua porção inteira é: 3   -  Usando \"  int(n) \n"
          ],
          "name": "stdout"
        }
      ]
    },
    {
      "cell_type": "code",
      "metadata": {
        "id": "DY1Gck-Mdwwv",
        "colab_type": "code",
        "colab": {
          "base_uri": "https://localhost:8080/",
          "height": 85
        },
        "outputId": "a6386d4c-5cb8-4485-ccc4-6dd04ad49e04"
      },
      "source": [
        "# Exercício Python 17:\n",
        "# Faça um programa que\n",
        "# leia o comprimento do cateto oposto e do cateto adjacente\n",
        "# de um triângulo retângulo.\n",
        "# Calcule e mostre o comprimento da hipotenusa.\n",
        "from time import sleep\n",
        "from math import sqrt\n",
        "\n",
        "# Início\n",
        "print ('Bem vindo ao Programa calculador de hipotenusa')\n",
        "\n",
        "# Variáveis\n",
        "a = float(input('Por favor, digite o valor 1: '))\n",
        "b = float(input('Por favor digite o valor 2: '))\n",
        "c = (a ** 2 + b ** 2)\n",
        "h = sqrt(c)\n",
        "\n",
        "sleep(1)\n",
        "print (f' A hipotenusa é : {h:.2f}')\n"
      ],
      "execution_count": null,
      "outputs": [
        {
          "output_type": "stream",
          "text": [
            "Bem vindo ao Programa calculador de hipotenusa\n",
            "Por favor, digite o valor 1: 50\n",
            "Por favor digite o valor 2: 60\n",
            " A hipotenusa é : 78.10\n"
          ],
          "name": "stdout"
        }
      ]
    },
    {
      "cell_type": "code",
      "metadata": {
        "id": "SYEigh7uiXnh",
        "colab_type": "code",
        "colab": {}
      },
      "source": [
        "# Exercício Python 69:\n",
        "# Crie um programa que leia a idade e o sexo de várias pessoas.\n",
        "# A cada pessoa cadastrada, o programa deverá perguntar\n",
        "# se o usuário quer ou não continuar.\n",
        "# No final, mostre:\n",
        "# A) quantas pessoas tem mais de 18 anos.\n",
        "\n",
        "# B) quantos homens foram cadastrados.\n",
        "\n",
        "# C) quantas mulheres tem menos de 20 anos.\n",
        "maioridade = homem = mulheres = total = 0\n",
        "while True:\n",
        "    idade = int(input('Idade: '))\n",
        "    sexo = ' '\n",
        "    while sexo not in 'MF':\n",
        "        sexo = str(input('sexo: ')).upper().strip()[0]\n",
        "    if idade > 18 :\n",
        "        maioridade += 1\n",
        "    \n",
        "    if sexo == 'M':\n",
        "        homem += 1\n",
        "    if sexo == 'F' and idade < 20:\n",
        "        mulheres += 1\n",
        "    total += 1\n",
        "    continuar = ' '\n",
        "    while continuar not in 'SN':\n",
        "        continuar = str(input('Continuar? [S/N]')).strip().upper()[0]\n",
        "    if continuar == 'N':\n",
        "        break\n",
        "\n",
        "print (f'Foram cadastradas {total} pessoas e:')\n",
        "print (f'{maioridade} delas são maiores de 18 anos')\n",
        "print (f'Foram cadastrados {homem} homens.')\n",
        "print (f'{mulheres} mulheres tem menos de 20 anos')\n",
        "print ('FIM')\n",
        "\n",
        "\n",
        "\n"
      ],
      "execution_count": null,
      "outputs": []
    },
    {
      "cell_type": "code",
      "metadata": {
        "id": "2jvF46SHrhQn",
        "colab_type": "code",
        "colab": {
          "base_uri": "https://localhost:8080/",
          "height": 272
        },
        "outputId": "5a0459e4-bdbb-492d-8f27-e0d49667fa58"
      },
      "source": [
        "# Exercício Python 70:\n",
        "# Crie um programa que\n",
        "# leia o nome e o preço de vários produtos.\n",
        "# O programa deverá perguntar se o usuário\n",
        "# vai continuar ou não. No final, mostre:\n",
        "\n",
        "# A) qual é o total gasto na compra.\n",
        "\n",
        "# B) quantos produtos custam mais de R$1000.\n",
        "\n",
        "# C) qual é o nome do produto mais barato.\n",
        "total = maisde1000 = maisbarato = cont = prod_barato = 0\n",
        "menorprod = ' '\n",
        "while True:\n",
        "    produto = str(input('Nome do produto: ')).strip().upper()\n",
        "    preço = float(input('Preço: '))\n",
        "    cont += 1\n",
        "    total += preço\n",
        "    if cont == 1 or preço < maisbarato: # interessante\n",
        "        maisbarato = preço\n",
        "        menorprod = produto\n",
        "        \n",
        "    if preço > 1000:\n",
        "        maisde1000 += 1\n",
        "    \n",
        "    continuar = ' '\n",
        "    while continuar not in 'SN':\n",
        "        continuar = str(input('Continuar? [S/N]')).strip().upper()[0]\n",
        "    if continuar == 'N':\n",
        "        break\n",
        "\n",
        "print (f'O total gasto na compra foi R$: {total}')  \n",
        "print (f'Um total de {maisde1000} produtos custam mais de R$ 1000,00.')\n",
        "print (f'E o produto mais barato foi {menorprod}, que custou R$: {maisbarato:.2f}.')  \n",
        "\n"
      ],
      "execution_count": 87,
      "outputs": [
        {
          "output_type": "stream",
          "text": [
            "Nome do produto: a\n",
            "Preço: 1\n",
            "Continuar? [S/N]s\n",
            "Nome do produto: b\n",
            "Preço: 2\n",
            "Continuar? [S/N]s\n",
            "Nome do produto: c\n",
            "Preço: 1500\n",
            "Continuar? [S/N]s\n",
            "Nome do produto: n\n",
            "Preço: 900\n",
            "Continuar? [S/N]n\n",
            "O total gasto na compra foi R$: 2403.0\n",
            "Um total de 1 produtos custam mais de R$ 1000,00.\n",
            "E o produto mais barato foi A, que custou R$: 1.00.\n"
          ],
          "name": "stdout"
        }
      ]
    },
    {
      "cell_type": "code",
      "metadata": {
        "id": "Zl8V950g0_aA",
        "colab_type": "code",
        "colab": {}
      },
      "source": [
        ""
      ],
      "execution_count": null,
      "outputs": []
    }
  ]
}